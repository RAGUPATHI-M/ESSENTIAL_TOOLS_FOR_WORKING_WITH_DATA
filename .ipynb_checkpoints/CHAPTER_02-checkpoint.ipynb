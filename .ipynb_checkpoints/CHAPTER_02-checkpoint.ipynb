{
 "cells": [
  {
   "cell_type": "markdown",
   "id": "7d2441aa",
   "metadata": {},
   "source": [
    "CHAPTER-2 INTRODUCTION TO NUMPY\n",
    "=========================="
   ]
  },
  {
   "cell_type": "code",
   "execution_count": 1,
   "id": "c7dcb9e8",
   "metadata": {},
   "outputs": [
    {
     "data": {
      "text/plain": [
       "'1.21.5'"
      ]
     },
     "execution_count": 1,
     "metadata": {},
     "output_type": "execute_result"
    }
   ],
   "source": [
    "import numpy\n",
    "\n",
    "numpy.__version__"
   ]
  },
  {
   "cell_type": "code",
   "execution_count": 2,
   "id": "b7093e4c",
   "metadata": {},
   "outputs": [],
   "source": [
    "import numpy as np"
   ]
  },
  {
   "cell_type": "code",
   "execution_count": 3,
   "id": "81fcba75",
   "metadata": {},
   "outputs": [],
   "source": [
    "#np.TAB- KEY"
   ]
  },
  {
   "cell_type": "code",
   "execution_count": 4,
   "id": "4ba9bfff",
   "metadata": {},
   "outputs": [],
   "source": [
    "np?"
   ]
  },
  {
   "cell_type": "markdown",
   "id": "25836109",
   "metadata": {},
   "source": [
    "Creating Arrays from Python List\n",
    "--------------------------------"
   ]
  },
  {
   "cell_type": "code",
   "execution_count": 5,
   "id": "fad2538f",
   "metadata": {},
   "outputs": [
    {
     "data": {
      "text/plain": [
       "array([ 1, 12,  8,  9])"
      ]
     },
     "execution_count": 5,
     "metadata": {},
     "output_type": "execute_result"
    }
   ],
   "source": [
    "import numpy as np\n",
    "np.array([1,12,8,9])"
   ]
  },
  {
   "cell_type": "code",
   "execution_count": 6,
   "id": "adc04fce",
   "metadata": {},
   "outputs": [
    {
     "data": {
      "text/plain": [
       "array([3.14, 4.  , 6.  , 3.  ])"
      ]
     },
     "execution_count": 6,
     "metadata": {},
     "output_type": "execute_result"
    }
   ],
   "source": [
    "np.array([3.14,4,6,3])"
   ]
  },
  {
   "cell_type": "code",
   "execution_count": 7,
   "id": "d2d65bf9",
   "metadata": {},
   "outputs": [
    {
     "data": {
      "text/plain": [
       "array([1., 2., 3., 4.], dtype=float32)"
      ]
     },
     "execution_count": 7,
     "metadata": {},
     "output_type": "execute_result"
    }
   ],
   "source": [
    "np.array([1,2,3,4],dtype='float32')"
   ]
  },
  {
   "cell_type": "code",
   "execution_count": 8,
   "id": "d1ad4295",
   "metadata": {},
   "outputs": [
    {
     "data": {
      "text/plain": [
       "array([[2, 3, 4],\n",
       "       [4, 5, 6],\n",
       "       [6, 7, 8]])"
      ]
     },
     "execution_count": 8,
     "metadata": {},
     "output_type": "execute_result"
    }
   ],
   "source": [
    "np.array([range(i,i+3)for i in [2,4,6]])"
   ]
  },
  {
   "cell_type": "markdown",
   "id": "736d748a",
   "metadata": {},
   "source": [
    "Creating Array from scratch\n",
    "-------------------------"
   ]
  },
  {
   "cell_type": "code",
   "execution_count": 9,
   "id": "0a85f132",
   "metadata": {},
   "outputs": [
    {
     "data": {
      "text/plain": [
       "array([0, 0, 0, 0, 0, 0, 0, 0, 0, 0])"
      ]
     },
     "execution_count": 9,
     "metadata": {},
     "output_type": "execute_result"
    }
   ],
   "source": [
    "np.zeros(10,dtype='int')"
   ]
  },
  {
   "cell_type": "code",
   "execution_count": 10,
   "id": "c094ffd4",
   "metadata": {},
   "outputs": [
    {
     "data": {
      "text/plain": [
       "array([[1, 1, 1, 1, 1],\n",
       "       [1, 1, 1, 1, 1],\n",
       "       [1, 1, 1, 1, 1]])"
      ]
     },
     "execution_count": 10,
     "metadata": {},
     "output_type": "execute_result"
    }
   ],
   "source": [
    "np.ones((3,5),dtype='int')"
   ]
  },
  {
   "cell_type": "code",
   "execution_count": 11,
   "id": "c3e196dd",
   "metadata": {},
   "outputs": [
    {
     "data": {
      "text/plain": [
       "array([[3.14, 3.14, 3.14, 3.14, 3.14],\n",
       "       [3.14, 3.14, 3.14, 3.14, 3.14],\n",
       "       [3.14, 3.14, 3.14, 3.14, 3.14]])"
      ]
     },
     "execution_count": 11,
     "metadata": {},
     "output_type": "execute_result"
    }
   ],
   "source": [
    "np.full((3,5),3.14)"
   ]
  },
  {
   "cell_type": "code",
   "execution_count": 12,
   "id": "49e7122f",
   "metadata": {},
   "outputs": [
    {
     "data": {
      "text/plain": [
       "array([ 0,  2,  4,  6,  8, 10, 12, 14, 16, 18])"
      ]
     },
     "execution_count": 12,
     "metadata": {},
     "output_type": "execute_result"
    }
   ],
   "source": [
    "np.arange(0,20,2)"
   ]
  },
  {
   "cell_type": "code",
   "execution_count": 13,
   "id": "ae63df25",
   "metadata": {},
   "outputs": [
    {
     "data": {
      "text/plain": [
       "array([0.        , 0.11111111, 0.22222222, 0.33333333, 0.44444444,\n",
       "       0.55555556, 0.66666667, 0.77777778, 0.88888889, 1.        ])"
      ]
     },
     "execution_count": 13,
     "metadata": {},
     "output_type": "execute_result"
    }
   ],
   "source": [
    "np.linspace(0,1,10)"
   ]
  },
  {
   "cell_type": "code",
   "execution_count": 14,
   "id": "cff9b0e0",
   "metadata": {},
   "outputs": [
    {
     "data": {
      "text/plain": [
       "array([[0.12460858, 0.41093538, 0.18131367],\n",
       "       [0.46407101, 0.14466309, 0.34559817],\n",
       "       [0.95385083, 0.67279607, 0.14155054]])"
      ]
     },
     "execution_count": 14,
     "metadata": {},
     "output_type": "execute_result"
    }
   ],
   "source": [
    "np.random.random((3,3))"
   ]
  },
  {
   "cell_type": "code",
   "execution_count": 15,
   "id": "478ca01d",
   "metadata": {},
   "outputs": [
    {
     "data": {
      "text/plain": [
       "array([[2, 6, 7],\n",
       "       [3, 5, 5],\n",
       "       [7, 0, 3]])"
      ]
     },
     "execution_count": 15,
     "metadata": {},
     "output_type": "execute_result"
    }
   ],
   "source": [
    "np.random.randint(0,10,(3,3))"
   ]
  },
  {
   "cell_type": "code",
   "execution_count": 16,
   "id": "24efe448",
   "metadata": {},
   "outputs": [
    {
     "data": {
      "text/plain": [
       "array([[ -8.42499982,  13.69844024,  -0.28953659],\n",
       "       [-14.53243851,  -4.91617984,  -7.385552  ],\n",
       "       [ -0.06108493,   1.16716834,  -5.96360646]])"
      ]
     },
     "execution_count": 16,
     "metadata": {},
     "output_type": "execute_result"
    }
   ],
   "source": [
    "np.random.normal(0,10,(3,3))"
   ]
  },
  {
   "cell_type": "code",
   "execution_count": 17,
   "id": "e03b3b13",
   "metadata": {},
   "outputs": [
    {
     "data": {
      "text/plain": [
       "array([[1., 0., 0.],\n",
       "       [0., 1., 0.],\n",
       "       [0., 0., 1.]])"
      ]
     },
     "execution_count": 17,
     "metadata": {},
     "output_type": "execute_result"
    }
   ],
   "source": [
    "np.eye(3)"
   ]
  },
  {
   "cell_type": "code",
   "execution_count": 18,
   "id": "e6d6d781",
   "metadata": {},
   "outputs": [
    {
     "data": {
      "text/plain": [
       "array([1., 1., 1.])"
      ]
     },
     "execution_count": 18,
     "metadata": {},
     "output_type": "execute_result"
    }
   ],
   "source": [
    "np.empty(3)"
   ]
  },
  {
   "cell_type": "markdown",
   "id": "9bebe5f0",
   "metadata": {},
   "source": [
    "Numpy Standard Data Types\n",
    "-----------------------"
   ]
  },
  {
   "cell_type": "code",
   "execution_count": 19,
   "id": "22ff3b79",
   "metadata": {},
   "outputs": [
    {
     "data": {
      "text/plain": [
       "array([0, 0, 0, 0, 0, 0, 0, 0, 0, 0])"
      ]
     },
     "execution_count": 19,
     "metadata": {},
     "output_type": "execute_result"
    }
   ],
   "source": [
    "np.zeros(10,dtype='int')"
   ]
  },
  {
   "cell_type": "markdown",
   "id": "6ab88053",
   "metadata": {},
   "source": [
    "Data type               -----------------Description\n",
    "\n",
    "bool_   Boolean (True or False) stored as a byte\n",
    "\n",
    "int_  Default integer type (same as C long; normally either int64 or int32)\n",
    "\n",
    "intc  Identical to C int (normally int32 or int64)\n",
    "\n",
    "intp   Integer used for indexing (same as C ssize_t; normally either int32 or int64)\n",
    "\n",
    "int8  Byte (–128 to 127)\n",
    "\n",
    "int16  Integer (–32768 to 32767)\n",
    "\n",
    "int32  Integer (–2147483648 to 2147483647)\n",
    "\n",
    "int64  Integer (–9223372036854775808 to 9223372036854775807)\n",
    "\n",
    "uint8 Unsigned integer (0 to 255)\n",
    "\n",
    "uint16 Unsigned integer (0 to 65535)\n",
    "\n",
    "uint32 Unsigned integer (0 to 4294967295)\n",
    "\n",
    "uint64 Unsigned integer (0 to 18446744073709551615)\n",
    "\n",
    "float_ Shorthand for float64\n",
    "\n",
    "float16 Half-precision float: sign bit, 5 bits exponent, 10 bits mantissa\n",
    "\n",
    "float32 Single-precision float: sign bit, 8 bits exponent, 23 bits mantissa\n",
    "\n",
    "float64 Double-precision float: sign bit, 11 bits exponent, 52 bits mantissa\n",
    "\n",
    "complex_ Shorthand for complex128\n",
    "\n",
    "complex64 Complex number, represented by two 32-bit floats\n",
    "\n",
    "complex128 Complex number, represented by two 64-bit floats"
   ]
  },
  {
   "cell_type": "markdown",
   "id": "8b6f9822",
   "metadata": {},
   "source": [
    "The Basics of Numpy Arrays\n",
    "---------------------"
   ]
  },
  {
   "cell_type": "code",
   "execution_count": 20,
   "id": "9e0418d4",
   "metadata": {},
   "outputs": [],
   "source": [
    "import numpy as np\n",
    "np.random.seed(0)\n",
    "\n",
    "x1 = np.random.randint(10,size=6)\n",
    "x2 = np.random.randint(10,size=(3,4))\n",
    "x3 = np.random.randint(10,size=(3,4,5))"
   ]
  },
  {
   "cell_type": "code",
   "execution_count": 21,
   "id": "cac99e8a",
   "metadata": {},
   "outputs": [
    {
     "data": {
      "text/plain": [
       "array([5, 0, 3, 3, 7, 9])"
      ]
     },
     "execution_count": 21,
     "metadata": {},
     "output_type": "execute_result"
    }
   ],
   "source": [
    "x1 #One - dimensional array"
   ]
  },
  {
   "cell_type": "code",
   "execution_count": 22,
   "id": "b2d9cb6e",
   "metadata": {},
   "outputs": [
    {
     "data": {
      "text/plain": [
       "array([[3, 5, 2, 4],\n",
       "       [7, 6, 8, 8],\n",
       "       [1, 6, 7, 7]])"
      ]
     },
     "execution_count": 22,
     "metadata": {},
     "output_type": "execute_result"
    }
   ],
   "source": [
    "x2 #two - dimensional array"
   ]
  },
  {
   "cell_type": "code",
   "execution_count": 23,
   "id": "ce2bcc3e",
   "metadata": {},
   "outputs": [
    {
     "data": {
      "text/plain": [
       "array([[[8, 1, 5, 9, 8],\n",
       "        [9, 4, 3, 0, 3],\n",
       "        [5, 0, 2, 3, 8],\n",
       "        [1, 3, 3, 3, 7]],\n",
       "\n",
       "       [[0, 1, 9, 9, 0],\n",
       "        [4, 7, 3, 2, 7],\n",
       "        [2, 0, 0, 4, 5],\n",
       "        [5, 6, 8, 4, 1]],\n",
       "\n",
       "       [[4, 9, 8, 1, 1],\n",
       "        [7, 9, 9, 3, 6],\n",
       "        [7, 2, 0, 3, 5],\n",
       "        [9, 4, 4, 6, 4]]])"
      ]
     },
     "execution_count": 23,
     "metadata": {},
     "output_type": "execute_result"
    }
   ],
   "source": [
    "x3   #three - dimensional array"
   ]
  },
  {
   "cell_type": "code",
   "execution_count": 24,
   "id": "6636a8af",
   "metadata": {},
   "outputs": [
    {
     "data": {
      "text/plain": [
       "(3, 4)"
      ]
     },
     "execution_count": 24,
     "metadata": {},
     "output_type": "execute_result"
    }
   ],
   "source": [
    "x2.shape"
   ]
  },
  {
   "cell_type": "code",
   "execution_count": 25,
   "id": "a7773833",
   "metadata": {},
   "outputs": [
    {
     "data": {
      "text/plain": [
       "3"
      ]
     },
     "execution_count": 25,
     "metadata": {},
     "output_type": "execute_result"
    }
   ],
   "source": [
    "x3.ndim"
   ]
  },
  {
   "cell_type": "code",
   "execution_count": 26,
   "id": "4ff2bf95",
   "metadata": {},
   "outputs": [
    {
     "data": {
      "text/plain": [
       "6"
      ]
     },
     "execution_count": 26,
     "metadata": {},
     "output_type": "execute_result"
    }
   ],
   "source": [
    "x1.size"
   ]
  },
  {
   "cell_type": "code",
   "execution_count": 27,
   "id": "882a2b35",
   "metadata": {},
   "outputs": [
    {
     "name": "stdout",
     "output_type": "stream",
     "text": [
      "dtype: int64\n"
     ]
    }
   ],
   "source": [
    "print(\"dtype:\" , x3.dtype)"
   ]
  },
  {
   "cell_type": "code",
   "execution_count": 28,
   "id": "5b8e13b0",
   "metadata": {},
   "outputs": [
    {
     "name": "stdout",
     "output_type": "stream",
     "text": [
      "itemsize: 8\n"
     ]
    }
   ],
   "source": [
    "print(\"itemsize:\", x2.itemsize)"
   ]
  },
  {
   "cell_type": "code",
   "execution_count": 29,
   "id": "9901eee5",
   "metadata": {},
   "outputs": [
    {
     "name": "stdout",
     "output_type": "stream",
     "text": [
      "nbytes 96\n"
     ]
    }
   ],
   "source": [
    "print(\"nbytes\",x2.nbytes)"
   ]
  },
  {
   "cell_type": "markdown",
   "id": "a240b312",
   "metadata": {},
   "source": [
    "Array Indexing:Accessing Single Elements\n",
    "---------------------"
   ]
  },
  {
   "cell_type": "code",
   "execution_count": 30,
   "id": "1f7bd9a0",
   "metadata": {},
   "outputs": [
    {
     "data": {
      "text/plain": [
       "array([5, 0, 3, 3, 7, 9])"
      ]
     },
     "execution_count": 30,
     "metadata": {},
     "output_type": "execute_result"
    }
   ],
   "source": [
    "x1"
   ]
  },
  {
   "cell_type": "code",
   "execution_count": 31,
   "id": "5da0bf62",
   "metadata": {},
   "outputs": [
    {
     "data": {
      "text/plain": [
       "5"
      ]
     },
     "execution_count": 31,
     "metadata": {},
     "output_type": "execute_result"
    }
   ],
   "source": [
    "x1[0]"
   ]
  },
  {
   "cell_type": "code",
   "execution_count": 32,
   "id": "9499bcdb",
   "metadata": {},
   "outputs": [
    {
     "data": {
      "text/plain": [
       "9"
      ]
     },
     "execution_count": 32,
     "metadata": {},
     "output_type": "execute_result"
    }
   ],
   "source": [
    "x1[-1]"
   ]
  },
  {
   "cell_type": "code",
   "execution_count": 33,
   "id": "d70f18f7",
   "metadata": {},
   "outputs": [
    {
     "data": {
      "text/plain": [
       "array([[3, 5, 2, 4],\n",
       "       [7, 6, 8, 8],\n",
       "       [1, 6, 7, 7]])"
      ]
     },
     "execution_count": 33,
     "metadata": {},
     "output_type": "execute_result"
    }
   ],
   "source": [
    "x2"
   ]
  },
  {
   "cell_type": "code",
   "execution_count": 34,
   "id": "6c1492ff",
   "metadata": {},
   "outputs": [
    {
     "data": {
      "text/plain": [
       "3"
      ]
     },
     "execution_count": 34,
     "metadata": {},
     "output_type": "execute_result"
    }
   ],
   "source": [
    "x2[0,0]"
   ]
  },
  {
   "cell_type": "code",
   "execution_count": 35,
   "id": "b069e636",
   "metadata": {},
   "outputs": [
    {
     "data": {
      "text/plain": [
       "1"
      ]
     },
     "execution_count": 35,
     "metadata": {},
     "output_type": "execute_result"
    }
   ],
   "source": [
    "x2[2,0]"
   ]
  },
  {
   "cell_type": "code",
   "execution_count": 36,
   "id": "c9dc3379",
   "metadata": {},
   "outputs": [
    {
     "data": {
      "text/plain": [
       "7"
      ]
     },
     "execution_count": 36,
     "metadata": {},
     "output_type": "execute_result"
    }
   ],
   "source": [
    "x2[2,-1]"
   ]
  },
  {
   "cell_type": "code",
   "execution_count": 37,
   "id": "db65d2dc",
   "metadata": {},
   "outputs": [],
   "source": [
    "#modify values"
   ]
  },
  {
   "cell_type": "code",
   "execution_count": 38,
   "id": "63aae832",
   "metadata": {},
   "outputs": [],
   "source": [
    "x2[0,0] = 12"
   ]
  },
  {
   "cell_type": "code",
   "execution_count": 39,
   "id": "1d8b98bc",
   "metadata": {},
   "outputs": [
    {
     "data": {
      "text/plain": [
       "array([[12,  5,  2,  4],\n",
       "       [ 7,  6,  8,  8],\n",
       "       [ 1,  6,  7,  7]])"
      ]
     },
     "execution_count": 39,
     "metadata": {},
     "output_type": "execute_result"
    }
   ],
   "source": [
    "x2"
   ]
  },
  {
   "cell_type": "code",
   "execution_count": 40,
   "id": "517974cf",
   "metadata": {},
   "outputs": [],
   "source": [
    "x1[0]= 3.1415 #THIS WILL TRUNCATED "
   ]
  },
  {
   "cell_type": "code",
   "execution_count": 41,
   "id": "72165183",
   "metadata": {},
   "outputs": [
    {
     "data": {
      "text/plain": [
       "array([3, 0, 3, 3, 7, 9])"
      ]
     },
     "execution_count": 41,
     "metadata": {},
     "output_type": "execute_result"
    }
   ],
   "source": [
    "x1"
   ]
  },
  {
   "cell_type": "markdown",
   "id": "dd106a72",
   "metadata": {},
   "source": [
    "Array Slicing :Accessing Subarrays\n",
    "-------"
   ]
  },
  {
   "cell_type": "code",
   "execution_count": 42,
   "id": "e20a8680",
   "metadata": {},
   "outputs": [],
   "source": [
    "# x[start:stop:step]"
   ]
  },
  {
   "cell_type": "code",
   "execution_count": 43,
   "id": "651263a3",
   "metadata": {},
   "outputs": [
    {
     "data": {
      "text/plain": [
       "array([0, 1, 2, 3, 4, 5, 6, 7, 8, 9])"
      ]
     },
     "execution_count": 43,
     "metadata": {},
     "output_type": "execute_result"
    }
   ],
   "source": [
    "x =np.arange(10)\n",
    "x"
   ]
  },
  {
   "cell_type": "code",
   "execution_count": 44,
   "id": "5b497936",
   "metadata": {},
   "outputs": [
    {
     "data": {
      "text/plain": [
       "array([0, 1, 2, 3, 4])"
      ]
     },
     "execution_count": 44,
     "metadata": {},
     "output_type": "execute_result"
    }
   ],
   "source": [
    "x[:5]"
   ]
  },
  {
   "cell_type": "code",
   "execution_count": 45,
   "id": "86d1e1b7",
   "metadata": {},
   "outputs": [
    {
     "data": {
      "text/plain": [
       "array([5, 6, 7, 8, 9])"
      ]
     },
     "execution_count": 45,
     "metadata": {},
     "output_type": "execute_result"
    }
   ],
   "source": [
    "x[5:]"
   ]
  },
  {
   "cell_type": "code",
   "execution_count": 46,
   "id": "9c03f2d0",
   "metadata": {},
   "outputs": [
    {
     "data": {
      "text/plain": [
       "array([0, 1, 2, 3, 4])"
      ]
     },
     "execution_count": 46,
     "metadata": {},
     "output_type": "execute_result"
    }
   ],
   "source": [
    "x[0:5]"
   ]
  },
  {
   "cell_type": "code",
   "execution_count": 47,
   "id": "492c6e77",
   "metadata": {},
   "outputs": [
    {
     "data": {
      "text/plain": [
       "array([0, 2, 4, 6, 8])"
      ]
     },
     "execution_count": 47,
     "metadata": {},
     "output_type": "execute_result"
    }
   ],
   "source": [
    "x[::2]"
   ]
  },
  {
   "cell_type": "code",
   "execution_count": 48,
   "id": "6d302fc4",
   "metadata": {},
   "outputs": [
    {
     "data": {
      "text/plain": [
       "array([0, 2, 4, 6, 8])"
      ]
     },
     "execution_count": 48,
     "metadata": {},
     "output_type": "execute_result"
    }
   ],
   "source": [
    "x[0::2]"
   ]
  },
  {
   "cell_type": "code",
   "execution_count": 49,
   "id": "9b15c26d",
   "metadata": {},
   "outputs": [
    {
     "data": {
      "text/plain": [
       "array([9, 8, 7, 6, 5, 4, 3, 2, 1, 0])"
      ]
     },
     "execution_count": 49,
     "metadata": {},
     "output_type": "execute_result"
    }
   ],
   "source": [
    "x[::-1]"
   ]
  },
  {
   "cell_type": "code",
   "execution_count": 50,
   "id": "f0519e9d",
   "metadata": {},
   "outputs": [
    {
     "data": {
      "text/plain": [
       "array([6, 4, 2, 0])"
      ]
     },
     "execution_count": 50,
     "metadata": {},
     "output_type": "execute_result"
    }
   ],
   "source": [
    "x[6::-2]"
   ]
  },
  {
   "cell_type": "markdown",
   "id": "8a654a8b",
   "metadata": {},
   "source": [
    "Multidimensional subarrays\n",
    "------------------------"
   ]
  },
  {
   "cell_type": "code",
   "execution_count": 51,
   "id": "0119e494",
   "metadata": {},
   "outputs": [],
   "source": [
    "x2 = np.random.randint(10,size=(3,3))"
   ]
  },
  {
   "cell_type": "code",
   "execution_count": 52,
   "id": "f23f331e",
   "metadata": {},
   "outputs": [
    {
     "data": {
      "text/plain": [
       "array([[4, 3, 4],\n",
       "       [4, 8, 4],\n",
       "       [3, 7, 5]])"
      ]
     },
     "execution_count": 52,
     "metadata": {},
     "output_type": "execute_result"
    }
   ],
   "source": [
    "x2"
   ]
  },
  {
   "cell_type": "code",
   "execution_count": 53,
   "id": "e72b0e6a",
   "metadata": {},
   "outputs": [
    {
     "data": {
      "text/plain": [
       "array([[4, 3, 4],\n",
       "       [4, 8, 4]])"
      ]
     },
     "execution_count": 53,
     "metadata": {},
     "output_type": "execute_result"
    }
   ],
   "source": [
    "x2[:2,:3] #two rows, three columns"
   ]
  },
  {
   "cell_type": "code",
   "execution_count": 54,
   "id": "33929057",
   "metadata": {},
   "outputs": [
    {
     "data": {
      "text/plain": [
       "array([[4, 4],\n",
       "       [4, 4],\n",
       "       [3, 5]])"
      ]
     },
     "execution_count": 54,
     "metadata": {},
     "output_type": "execute_result"
    }
   ],
   "source": [
    "x2[:3,::2]"
   ]
  },
  {
   "cell_type": "code",
   "execution_count": 55,
   "id": "41e1eeb4",
   "metadata": {},
   "outputs": [
    {
     "data": {
      "text/plain": [
       "array([[5, 7, 3],\n",
       "       [4, 8, 4],\n",
       "       [4, 3, 4]])"
      ]
     },
     "execution_count": 55,
     "metadata": {},
     "output_type": "execute_result"
    }
   ],
   "source": [
    "#subarray dimensions can even be reversed together:\n",
    "x2[::-1,::-1]"
   ]
  },
  {
   "cell_type": "markdown",
   "id": "ae84f802",
   "metadata": {},
   "source": [
    "Accessing array rows and columns.\n",
    "---------------------------\n",
    "One commonly needed routine is accessing single\n",
    "rows or columns of an array. You can do this by combining indexing and slicing,\n",
    "using an empty slice marked by a single colon (:):"
   ]
  },
  {
   "cell_type": "code",
   "execution_count": 56,
   "id": "cc32ca13",
   "metadata": {},
   "outputs": [
    {
     "name": "stdout",
     "output_type": "stream",
     "text": [
      "[4 4 3]\n"
     ]
    }
   ],
   "source": [
    "print(x2[:,0]) #first column of x2"
   ]
  },
  {
   "cell_type": "code",
   "execution_count": 57,
   "id": "ac0cda7c",
   "metadata": {},
   "outputs": [
    {
     "name": "stdout",
     "output_type": "stream",
     "text": [
      "[4 3 4]\n"
     ]
    }
   ],
   "source": [
    "\n",
    "print(x2[0]) #first row of x2"
   ]
  },
  {
   "cell_type": "markdown",
   "id": "20b1c8e4",
   "metadata": {},
   "source": [
    "Subarrays as no-copy views\n",
    "---------------------------\n",
    "One important—and extremely useful—thing to know about array slices is that they\n",
    "return views rather than copies of the array data. This is one area in which NumPy\n",
    "array slicing differs from Python list slicing: in lists, slices will be copies. Consider our\n",
    "two-dimensional array from before:"
   ]
  },
  {
   "cell_type": "code",
   "execution_count": 58,
   "id": "7035a4e4",
   "metadata": {},
   "outputs": [
    {
     "name": "stdout",
     "output_type": "stream",
     "text": [
      "[[4 3 4]\n",
      " [4 8 4]\n",
      " [3 7 5]]\n"
     ]
    }
   ],
   "source": [
    "print(x2)"
   ]
  },
  {
   "cell_type": "code",
   "execution_count": 59,
   "id": "7a700d75",
   "metadata": {},
   "outputs": [],
   "source": [
    "x2_sub = x2[:2,:2]"
   ]
  },
  {
   "cell_type": "code",
   "execution_count": 60,
   "id": "7122b7c3",
   "metadata": {},
   "outputs": [
    {
     "data": {
      "text/plain": [
       "array([[4, 3],\n",
       "       [4, 8]])"
      ]
     },
     "execution_count": 60,
     "metadata": {},
     "output_type": "execute_result"
    }
   ],
   "source": [
    "x2_sub"
   ]
  },
  {
   "cell_type": "code",
   "execution_count": 61,
   "id": "bd56204d",
   "metadata": {},
   "outputs": [],
   "source": [
    "x2_sub[0,0] = 99"
   ]
  },
  {
   "cell_type": "code",
   "execution_count": 62,
   "id": "ffe33233",
   "metadata": {},
   "outputs": [
    {
     "data": {
      "text/plain": [
       "array([[99,  3],\n",
       "       [ 4,  8]])"
      ]
     },
     "execution_count": 62,
     "metadata": {},
     "output_type": "execute_result"
    }
   ],
   "source": [
    "x2_sub"
   ]
  },
  {
   "cell_type": "code",
   "execution_count": 63,
   "id": "5b149e2e",
   "metadata": {},
   "outputs": [
    {
     "name": "stdout",
     "output_type": "stream",
     "text": [
      "[[99  3  4]\n",
      " [ 4  8  4]\n",
      " [ 3  7  5]]\n"
     ]
    }
   ],
   "source": [
    "print(x2)"
   ]
  },
  {
   "cell_type": "markdown",
   "id": "0739d54f",
   "metadata": {},
   "source": [
    "Creating copies of arrays\n",
    "-------------------\n",
    "Despite the nice features of array views, it is sometimes useful to instead explicitly\n",
    "copy the data within an array or a subarray. This can be most easily done with the\n",
    "copy() method:"
   ]
  },
  {
   "cell_type": "code",
   "execution_count": 64,
   "id": "02e5921c",
   "metadata": {},
   "outputs": [
    {
     "name": "stdout",
     "output_type": "stream",
     "text": [
      "[[99  3]\n",
      " [ 4  8]]\n"
     ]
    }
   ],
   "source": [
    "x2_sub_copy = x2[:2,:2].copy()\n",
    "print(x2_sub_copy)"
   ]
  },
  {
   "cell_type": "code",
   "execution_count": 65,
   "id": "0a6a8605",
   "metadata": {},
   "outputs": [
    {
     "name": "stdout",
     "output_type": "stream",
     "text": [
      "[[12  3]\n",
      " [ 4  8]]\n"
     ]
    }
   ],
   "source": [
    "x2_sub_copy[0,0] = 12\n",
    "print(x2_sub_copy)"
   ]
  },
  {
   "cell_type": "code",
   "execution_count": 66,
   "id": "4f6d78cb",
   "metadata": {},
   "outputs": [
    {
     "name": "stdout",
     "output_type": "stream",
     "text": [
      "[[99  3  4]\n",
      " [ 4  8  4]\n",
      " [ 3  7  5]]\n"
     ]
    }
   ],
   "source": [
    "print(x2)"
   ]
  },
  {
   "cell_type": "markdown",
   "id": "69df98ae",
   "metadata": {},
   "source": [
    "Reshaping of Arrays\n",
    "-------------------\n",
    "Another useful type of operation is reshaping of arrays. The most flexible way of\n",
    "doing this is with the reshape() method. For example, if you want to put the num‐\n",
    "bers 1 through 9 in a 3×3 grid, you can do the following:"
   ]
  },
  {
   "cell_type": "code",
   "execution_count": 67,
   "id": "22fd1a2c",
   "metadata": {},
   "outputs": [],
   "source": [
    "grid = np.arange(1,10).reshape((3,3))"
   ]
  },
  {
   "cell_type": "code",
   "execution_count": 68,
   "id": "df69b12f",
   "metadata": {},
   "outputs": [
    {
     "data": {
      "text/plain": [
       "array([[1, 2, 3],\n",
       "       [4, 5, 6],\n",
       "       [7, 8, 9]])"
      ]
     },
     "execution_count": 68,
     "metadata": {},
     "output_type": "execute_result"
    }
   ],
   "source": [
    "grid"
   ]
  },
  {
   "cell_type": "code",
   "execution_count": 69,
   "id": "f61ec66f",
   "metadata": {},
   "outputs": [
    {
     "data": {
      "text/plain": [
       "array([[1, 2, 3, 4, 5, 6, 7, 8, 9]])"
      ]
     },
     "execution_count": 69,
     "metadata": {},
     "output_type": "execute_result"
    }
   ],
   "source": [
    "grid.reshape((1,9))"
   ]
  },
  {
   "cell_type": "code",
   "execution_count": 70,
   "id": "a1b759de",
   "metadata": {},
   "outputs": [
    {
     "data": {
      "text/plain": [
       "array([[1, 2, 3]])"
      ]
     },
     "execution_count": 70,
     "metadata": {},
     "output_type": "execute_result"
    }
   ],
   "source": [
    "x = np.array([1,2,3])\n",
    "x.reshape((1,3))"
   ]
  },
  {
   "cell_type": "code",
   "execution_count": 71,
   "id": "b4e11c8c",
   "metadata": {},
   "outputs": [
    {
     "data": {
      "text/plain": [
       "array([[1],\n",
       "       [2],\n",
       "       [3]])"
      ]
     },
     "execution_count": 71,
     "metadata": {},
     "output_type": "execute_result"
    }
   ],
   "source": [
    "x.reshape((3,1))"
   ]
  },
  {
   "cell_type": "code",
   "execution_count": 72,
   "id": "a887eba5",
   "metadata": {},
   "outputs": [
    {
     "data": {
      "text/plain": [
       "array([[1, 2, 3]])"
      ]
     },
     "execution_count": 72,
     "metadata": {},
     "output_type": "execute_result"
    }
   ],
   "source": [
    "x[np.newaxis,:]"
   ]
  },
  {
   "cell_type": "markdown",
   "id": "ba32cd6b",
   "metadata": {},
   "source": [
    "Array Concatenation and Splitting\n",
    "----------------------------\n",
    "\n",
    "All of the preceding routines worked on single arrays. It’s also possible to combine\n",
    "multiple arrays into one, and to conversely split a single array into multiple arrays.\n",
    "We’ll take a look at those operations here.\n",
    "\n",
    "Concatenation of arrays\n",
    "----------------------\n",
    "\n",
    "Concatenation, or joining of two arrays in NumPy, is primarily accomplished\n",
    "through the routines np.concatenate, np.vstack, and np.hstack. np.concatenate\n",
    "takes a tuple or list of arrays as its first argument, as we can see here:"
   ]
  },
  {
   "cell_type": "code",
   "execution_count": 73,
   "id": "c0b4b19a",
   "metadata": {},
   "outputs": [
    {
     "data": {
      "text/plain": [
       "array([1, 2, 3, 3, 2, 1])"
      ]
     },
     "execution_count": 73,
     "metadata": {},
     "output_type": "execute_result"
    }
   ],
   "source": [
    "import numpy as np\n",
    "x = np.array([1,2,3])\n",
    "y = np.array([3,2,1])\n",
    "np.concatenate([x,y])"
   ]
  },
  {
   "cell_type": "code",
   "execution_count": 74,
   "id": "94504361",
   "metadata": {},
   "outputs": [
    {
     "name": "stdout",
     "output_type": "stream",
     "text": [
      "[ 1  2  3  3  2  1 12 12 12]\n"
     ]
    }
   ],
   "source": [
    "z = np.array([12,12,12])\n",
    "print(np.concatenate([x,y,z]))"
   ]
  },
  {
   "cell_type": "code",
   "execution_count": 75,
   "id": "99c630e9",
   "metadata": {},
   "outputs": [],
   "source": [
    "#np.concatenate can also be used for two-dimensional arrays:\n"
   ]
  },
  {
   "cell_type": "code",
   "execution_count": 76,
   "id": "8112c53f",
   "metadata": {},
   "outputs": [],
   "source": [
    "grid = np.array([[1,2,3],[2,3,4]])"
   ]
  },
  {
   "cell_type": "code",
   "execution_count": 77,
   "id": "8c1220af",
   "metadata": {},
   "outputs": [
    {
     "data": {
      "text/plain": [
       "array([[1, 2, 3],\n",
       "       [2, 3, 4],\n",
       "       [1, 2, 3],\n",
       "       [2, 3, 4]])"
      ]
     },
     "execution_count": 77,
     "metadata": {},
     "output_type": "execute_result"
    }
   ],
   "source": [
    "np.concatenate([grid,grid],axis=0)"
   ]
  },
  {
   "cell_type": "code",
   "execution_count": 78,
   "id": "ba58d67d",
   "metadata": {},
   "outputs": [
    {
     "data": {
      "text/plain": [
       "array([[1, 2, 3, 1, 2, 3],\n",
       "       [2, 3, 4, 2, 3, 4]])"
      ]
     },
     "execution_count": 78,
     "metadata": {},
     "output_type": "execute_result"
    }
   ],
   "source": [
    "np.concatenate([grid,grid],axis=1)"
   ]
  },
  {
   "cell_type": "markdown",
   "id": "6f4f60fc",
   "metadata": {},
   "source": [
    "For working with arrays of mixed dimensions, it can be clearer to use the np.vstack\n",
    "(vertical stack) and np.hstack (horizontal stack) functions"
   ]
  },
  {
   "cell_type": "code",
   "execution_count": 79,
   "id": "e24910fb",
   "metadata": {},
   "outputs": [],
   "source": [
    " x = np.array([1, 2, 3])\n",
    "grid = np.array([[9, 8, 7],[6, 5, 4]])"
   ]
  },
  {
   "cell_type": "code",
   "execution_count": 80,
   "id": "30fc6356",
   "metadata": {},
   "outputs": [
    {
     "data": {
      "text/plain": [
       "array([[1, 2, 3],\n",
       "       [9, 8, 7],\n",
       "       [6, 5, 4]])"
      ]
     },
     "execution_count": 80,
     "metadata": {},
     "output_type": "execute_result"
    }
   ],
   "source": [
    "np.vstack([x,grid])"
   ]
  },
  {
   "cell_type": "code",
   "execution_count": 81,
   "id": "b7fdd942",
   "metadata": {},
   "outputs": [],
   "source": [
    "y = np.array([[2],[2]])"
   ]
  },
  {
   "cell_type": "code",
   "execution_count": 82,
   "id": "1a368c25",
   "metadata": {},
   "outputs": [
    {
     "data": {
      "text/plain": [
       "array([[2, 9, 8, 7],\n",
       "       [2, 6, 5, 4]])"
      ]
     },
     "execution_count": 82,
     "metadata": {},
     "output_type": "execute_result"
    }
   ],
   "source": [
    "np.hstack([y,grid])"
   ]
  },
  {
   "cell_type": "markdown",
   "id": "a2b227cc",
   "metadata": {},
   "source": [
    "Splitting of arrays\n",
    "-------------------\n",
    "The opposite of concatenation is splitting, which is implemented by the functions\n",
    "np.split, np.hsplit, and np.vsplit. For each of these, we can pass a list of indices\n",
    "giving the split points:"
   ]
  },
  {
   "cell_type": "code",
   "execution_count": 83,
   "id": "36a394ec",
   "metadata": {},
   "outputs": [
    {
     "name": "stdout",
     "output_type": "stream",
     "text": [
      "[1 2 3] [4 5 6] [7 8 9]\n"
     ]
    }
   ],
   "source": [
    "x = [1,2,3,4,5,6,7,8,9]\n",
    "x1,x2,x3 = np.split(x,[3,6])\n",
    "print(x1,x2,x3)"
   ]
  },
  {
   "cell_type": "code",
   "execution_count": 84,
   "id": "c6b6061e",
   "metadata": {},
   "outputs": [],
   "source": [
    "grid = np.arange(16).reshape((4,4))"
   ]
  },
  {
   "cell_type": "code",
   "execution_count": 85,
   "id": "4851bf6d",
   "metadata": {},
   "outputs": [
    {
     "data": {
      "text/plain": [
       "array([[ 0,  1,  2,  3],\n",
       "       [ 4,  5,  6,  7],\n",
       "       [ 8,  9, 10, 11],\n",
       "       [12, 13, 14, 15]])"
      ]
     },
     "execution_count": 85,
     "metadata": {},
     "output_type": "execute_result"
    }
   ],
   "source": [
    "grid"
   ]
  },
  {
   "cell_type": "code",
   "execution_count": 86,
   "id": "e2bedf1a",
   "metadata": {},
   "outputs": [],
   "source": [
    "upper,lower = np.vsplit(grid,[2])"
   ]
  },
  {
   "cell_type": "code",
   "execution_count": 87,
   "id": "c32449a7",
   "metadata": {},
   "outputs": [
    {
     "name": "stdout",
     "output_type": "stream",
     "text": [
      "upper: [[0 1 2 3]\n",
      " [4 5 6 7]]\n",
      "--------------------------------------------\n",
      "\n",
      "lower: [[ 8  9 10 11]\n",
      " [12 13 14 15]]\n"
     ]
    }
   ],
   "source": [
    "print(\"upper:\", upper)\n",
    "print('--------------------------------------------')\n",
    "print('\\nlower:', lower)"
   ]
  },
  {
   "cell_type": "code",
   "execution_count": 88,
   "id": "49dd5882",
   "metadata": {},
   "outputs": [
    {
     "data": {
      "text/plain": [
       "array([[ 0,  1,  2,  3],\n",
       "       [ 4,  5,  6,  7],\n",
       "       [ 8,  9, 10, 11],\n",
       "       [12, 13, 14, 15]])"
      ]
     },
     "execution_count": 88,
     "metadata": {},
     "output_type": "execute_result"
    }
   ],
   "source": [
    "grid"
   ]
  },
  {
   "cell_type": "code",
   "execution_count": 89,
   "id": "212b47d1",
   "metadata": {},
   "outputs": [],
   "source": [
    "left , right = np.hsplit(grid,[2])"
   ]
  },
  {
   "cell_type": "code",
   "execution_count": 90,
   "id": "6dc0fe81",
   "metadata": {},
   "outputs": [
    {
     "name": "stdout",
     "output_type": "stream",
     "text": [
      "[[ 0  1]\n",
      " [ 4  5]\n",
      " [ 8  9]\n",
      " [12 13]]\n",
      "--------------------------------------------\n",
      "[[ 2  3]\n",
      " [ 6  7]\n",
      " [10 11]\n",
      " [14 15]]\n"
     ]
    }
   ],
   "source": [
    "print(left)\n",
    "print('--------------------------------------------')\n",
    "print(right)"
   ]
  },
  {
   "cell_type": "markdown",
   "id": "f33abe73",
   "metadata": {},
   "source": [
    "# Computation on NumPy Arrays: Universal Functions\n",
    "Up until now, we have been discussing some of the basic nuts and bolts of NumPy; in\n",
    "the next few sections, we will dive into the reasons that NumPy is so important in the\n",
    "Python data science world. Namely, it provides an easy and flexible interface to opti‐\n",
    "mized computation with arrays of data."
   ]
  },
  {
   "cell_type": "code",
   "execution_count": 92,
   "id": "1e7ca0ce",
   "metadata": {},
   "outputs": [],
   "source": [
    "def compute_reciprocals(values):\n",
    "    output =np.empty(len(values))\n",
    "    for i in range(len(values)):\n",
    "        output[i] = 1.0 /values[i]\n",
    "    return output\n"
   ]
  },
  {
   "cell_type": "code",
   "execution_count": 95,
   "id": "c119dbb2",
   "metadata": {},
   "outputs": [
    {
     "data": {
      "text/plain": [
       "array([1, 6, 1, 2, 3])"
      ]
     },
     "execution_count": 95,
     "metadata": {},
     "output_type": "execute_result"
    }
   ],
   "source": [
    "values =np.random.randint(1,10, size=5)\n",
    "values"
   ]
  },
  {
   "cell_type": "code",
   "execution_count": 96,
   "id": "9e689978",
   "metadata": {},
   "outputs": [
    {
     "data": {
      "text/plain": [
       "array([1.        , 0.16666667, 1.        , 0.5       , 0.33333333])"
      ]
     },
     "execution_count": 96,
     "metadata": {},
     "output_type": "execute_result"
    }
   ],
   "source": [
    "compute_reciprocals(values)"
   ]
  },
  {
   "cell_type": "code",
   "execution_count": 97,
   "id": "470eaef3",
   "metadata": {},
   "outputs": [],
   "source": [
    "big_array =np.random.randint(1,100,size=10000000)"
   ]
  },
  {
   "cell_type": "code",
   "execution_count": 98,
   "id": "50395c84",
   "metadata": {},
   "outputs": [
    {
     "data": {
      "text/plain": [
       "array([0.02702703, 0.02857143, 0.02040816, ..., 0.01234568, 0.01960784,\n",
       "       0.07142857])"
      ]
     },
     "execution_count": 98,
     "metadata": {},
     "output_type": "execute_result"
    }
   ],
   "source": [
    "compute_reciprocals(big_array)"
   ]
  },
  {
   "cell_type": "code",
   "execution_count": 99,
   "id": "b3fba8d2",
   "metadata": {},
   "outputs": [
    {
     "name": "stdout",
     "output_type": "stream",
     "text": [
      "17.2 s ± 50.6 ms per loop (mean ± std. dev. of 7 runs, 1 loop each)\n"
     ]
    }
   ],
   "source": [
    "%timeit compute_reciprocals(big_array)"
   ]
  },
  {
   "cell_type": "code",
   "execution_count": 100,
   "id": "ca1e9d21",
   "metadata": {},
   "outputs": [],
   "source": [
    "output =np.empty(len(values))"
   ]
  },
  {
   "cell_type": "code",
   "execution_count": 101,
   "id": "9330cf31",
   "metadata": {},
   "outputs": [
    {
     "data": {
      "text/plain": [
       "array([1.        , 0.16666667, 1.        , 0.5       , 0.33333333])"
      ]
     },
     "execution_count": 101,
     "metadata": {},
     "output_type": "execute_result"
    }
   ],
   "source": [
    "output"
   ]
  },
  {
   "cell_type": "code",
   "execution_count": 102,
   "id": "d582b9d4",
   "metadata": {},
   "outputs": [
    {
     "name": "stdout",
     "output_type": "stream",
     "text": [
      "[1.         0.16666667 1.         0.5        0.33333333]\n"
     ]
    }
   ],
   "source": [
    "print(compute_reciprocals(values))"
   ]
  },
  {
   "cell_type": "code",
   "execution_count": 103,
   "id": "652ed765",
   "metadata": {},
   "outputs": [
    {
     "name": "stdout",
     "output_type": "stream",
     "text": [
      "[1.         0.16666667 1.         0.5        0.33333333]\n"
     ]
    }
   ],
   "source": [
    "print(1.0/values)"
   ]
  },
  {
   "cell_type": "code",
   "execution_count": 104,
   "id": "8082115d",
   "metadata": {},
   "outputs": [
    {
     "name": "stdout",
     "output_type": "stream",
     "text": [
      "24.5 ms ± 1.77 ms per loop (mean ± std. dev. of 7 runs, 10 loops each)\n"
     ]
    }
   ],
   "source": [
    "%timeit (1.0 /big_array)"
   ]
  },
  {
   "cell_type": "code",
   "execution_count": 105,
   "id": "649ed590",
   "metadata": {},
   "outputs": [
    {
     "data": {
      "text/plain": [
       "array([0.        , 0.5       , 0.66666667, 0.75      , 0.8       ])"
      ]
     },
     "execution_count": 105,
     "metadata": {},
     "output_type": "execute_result"
    }
   ],
   "source": [
    "np.arange(5) /np.arange(1,6)"
   ]
  },
  {
   "cell_type": "code",
   "execution_count": 106,
   "id": "1482b8d6",
   "metadata": {},
   "outputs": [
    {
     "data": {
      "text/plain": [
       "array([0, 1, 2, 3, 4])"
      ]
     },
     "execution_count": 106,
     "metadata": {},
     "output_type": "execute_result"
    }
   ],
   "source": [
    "np.arange(5)"
   ]
  },
  {
   "cell_type": "code",
   "execution_count": 107,
   "id": "9bfc4df9",
   "metadata": {},
   "outputs": [
    {
     "data": {
      "text/plain": [
       "array([1, 2, 3, 4, 5])"
      ]
     },
     "execution_count": 107,
     "metadata": {},
     "output_type": "execute_result"
    }
   ],
   "source": [
    "np.arange(1,6)"
   ]
  },
  {
   "cell_type": "markdown",
   "id": "26b2740a",
   "metadata": {},
   "source": [
    "ufunc operations are not limited to one-dimensional arrays—they can act on\n",
    "multidimensional arrays as well:"
   ]
  },
  {
   "cell_type": "code",
   "execution_count": 108,
   "id": "0ddc99f7",
   "metadata": {},
   "outputs": [
    {
     "data": {
      "text/plain": [
       "array([[  1,   2,   4],\n",
       "       [  8,  16,  32],\n",
       "       [ 64, 128, 256]])"
      ]
     },
     "execution_count": 108,
     "metadata": {},
     "output_type": "execute_result"
    }
   ],
   "source": [
    "x = np.arange(9).reshape((3,3))\n",
    "2**x"
   ]
  },
  {
   "cell_type": "markdown",
   "id": "4809b2ab",
   "metadata": {},
   "source": [
    "# Exploring NumPy’s UFuncs\n",
    "Ufuncs exist in two flavors: unary ufuncs, which operate on a single input, and binary\n",
    "ufuncs, which operate on two inputs. We’ll see examples of both these types of func‐\n",
    "tions here."
   ]
  },
  {
   "cell_type": "code",
   "execution_count": 112,
   "id": "62a44afa",
   "metadata": {},
   "outputs": [
    {
     "name": "stdout",
     "output_type": "stream",
     "text": [
      "x [0 1 2 3]\n",
      "x+5 [5 6 7 8]\n",
      "x-5 [-5 -4 -3 -2]\n",
      "x*8 [ 0  8 16 24]\n",
      "x/4 [0.   0.25 0.5  0.75]\n",
      "x//2 [0 0 1 1]\n"
     ]
    }
   ],
   "source": [
    "x =np.arange(4)\n",
    "print(\"x\",x)\n",
    "print(\"x+5\",x+5)\n",
    "print(\"x-5\",x-5)\n",
    "print(\"x*8\",x*8)\n",
    "print(\"x/4\",x/4)\n",
    "print(\"x//2\",x//2)"
   ]
  },
  {
   "cell_type": "markdown",
   "id": "6e4601c7",
   "metadata": {},
   "source": [
    "There is also a unary ufunc for negation, a ** operator for exponentiation, and a %\n",
    "operator for modulus:"
   ]
  },
  {
   "cell_type": "code",
   "execution_count": 113,
   "id": "15bc331e",
   "metadata": {},
   "outputs": [
    {
     "name": "stdout",
     "output_type": "stream",
     "text": [
      "-x [ 0 -1 -2 -3]\n",
      "x**2 [0 1 4 9]\n",
      "x%2 [0 1 0 1]\n"
     ]
    }
   ],
   "source": [
    "print(\"-x\",-x)\n",
    "print(\"x**2\",x**2)\n",
    "print(\"x%2\",x%2)"
   ]
  },
  {
   "cell_type": "markdown",
   "id": "d0e1c703",
   "metadata": {},
   "source": [
    "arithmetic operators implemented in NumPy."
   ]
  },
  {
   "cell_type": "code",
   "execution_count": 114,
   "id": "755c428e",
   "metadata": {},
   "outputs": [
    {
     "data": {
      "text/plain": [
       "2"
      ]
     },
     "execution_count": 114,
     "metadata": {},
     "output_type": "execute_result"
    }
   ],
   "source": [
    "np.add(1,1)"
   ]
  },
  {
   "cell_type": "code",
   "execution_count": 115,
   "id": "fa7a6e41",
   "metadata": {},
   "outputs": [
    {
     "data": {
      "text/plain": [
       "2436"
      ]
     },
     "execution_count": 115,
     "metadata": {},
     "output_type": "execute_result"
    }
   ],
   "source": [
    "np.subtract(3000,564)"
   ]
  },
  {
   "cell_type": "code",
   "execution_count": 116,
   "id": "7befb5bd",
   "metadata": {},
   "outputs": [
    {
     "data": {
      "text/plain": [
       "-4"
      ]
     },
     "execution_count": 116,
     "metadata": {},
     "output_type": "execute_result"
    }
   ],
   "source": [
    "np.negative(4)"
   ]
  },
  {
   "cell_type": "code",
   "execution_count": 117,
   "id": "94c6272b",
   "metadata": {},
   "outputs": [
    {
     "data": {
      "text/plain": [
       "22220"
      ]
     },
     "execution_count": 117,
     "metadata": {},
     "output_type": "execute_result"
    }
   ],
   "source": [
    "np.multiply(4,5555)"
   ]
  },
  {
   "cell_type": "code",
   "execution_count": 118,
   "id": "3d1dede2",
   "metadata": {},
   "outputs": [
    {
     "data": {
      "text/plain": [
       "7.666666666666667"
      ]
     },
     "execution_count": 118,
     "metadata": {},
     "output_type": "execute_result"
    }
   ],
   "source": [
    "np.divide(345,45)"
   ]
  },
  {
   "cell_type": "code",
   "execution_count": 119,
   "id": "5bb70505",
   "metadata": {},
   "outputs": [
    {
     "data": {
      "text/plain": [
       "23"
      ]
     },
     "execution_count": 119,
     "metadata": {},
     "output_type": "execute_result"
    }
   ],
   "source": [
    "np.mod(23,78)"
   ]
  },
  {
   "cell_type": "code",
   "execution_count": 120,
   "id": "58cc0840",
   "metadata": {},
   "outputs": [
    {
     "data": {
      "text/plain": [
       "0"
      ]
     },
     "execution_count": 120,
     "metadata": {},
     "output_type": "execute_result"
    }
   ],
   "source": [
    "np.floor_divide(123,345)"
   ]
  },
  {
   "cell_type": "code",
   "execution_count": 122,
   "id": "c3f4c92a",
   "metadata": {},
   "outputs": [
    {
     "data": {
      "text/plain": [
       "7352787613788948299"
      ]
     },
     "execution_count": 122,
     "metadata": {},
     "output_type": "execute_result"
    }
   ],
   "source": [
    "np.power(3,87)"
   ]
  },
  {
   "cell_type": "markdown",
   "id": "14f0905c",
   "metadata": {},
   "source": [
    "Absolute value\n",
    "==="
   ]
  },
  {
   "cell_type": "code",
   "execution_count": 126,
   "id": "27f8aa75",
   "metadata": {},
   "outputs": [],
   "source": [
    "x=np.array([-2,-6,8,-7,-9])"
   ]
  },
  {
   "cell_type": "code",
   "execution_count": 127,
   "id": "ce466537",
   "metadata": {},
   "outputs": [
    {
     "data": {
      "text/plain": [
       "array([2, 6, 8, 7, 9])"
      ]
     },
     "execution_count": 127,
     "metadata": {},
     "output_type": "execute_result"
    }
   ],
   "source": [
    "abs(x)"
   ]
  },
  {
   "cell_type": "code",
   "execution_count": 128,
   "id": "36f16190",
   "metadata": {},
   "outputs": [
    {
     "data": {
      "text/plain": [
       "array([2, 6, 8, 7, 9])"
      ]
     },
     "execution_count": 128,
     "metadata": {},
     "output_type": "execute_result"
    }
   ],
   "source": [
    "np.abs(x)"
   ]
  },
  {
   "cell_type": "code",
   "execution_count": 129,
   "id": "23ccd7a4",
   "metadata": {},
   "outputs": [
    {
     "data": {
      "text/plain": [
       "array([2, 6, 8, 7, 9])"
      ]
     },
     "execution_count": 129,
     "metadata": {},
     "output_type": "execute_result"
    }
   ],
   "source": [
    "np.absolute(x)"
   ]
  },
  {
   "cell_type": "markdown",
   "id": "ff3c827d",
   "metadata": {},
   "source": [
    "Trigonometric functions\n",
    "==="
   ]
  },
  {
   "cell_type": "code",
   "execution_count": 136,
   "id": "920ebab6",
   "metadata": {},
   "outputs": [],
   "source": [
    "theta = np.linspace(0,360,2)"
   ]
  },
  {
   "cell_type": "code",
   "execution_count": 139,
   "id": "084938ca",
   "metadata": {},
   "outputs": [
    {
     "name": "stdout",
     "output_type": "stream",
     "text": [
      "theta : [  0. 360.]\n",
      "sin(theta): [0.         0.95891572]\n",
      "cos(theta): [ 1.         -0.28369109]\n",
      "tan(theta): [ 0.         -3.38014041]\n"
     ]
    }
   ],
   "source": [
    "print(\"theta :\",theta)\n",
    "print(\"sin(theta):\",np.sin(theta))\n",
    "print(\"cos(theta):\",np.cos(theta))\n",
    "print(\"tan(theta):\",np.tan(theta))"
   ]
  },
  {
   "cell_type": "markdown",
   "id": "0d0f19d6",
   "metadata": {},
   "source": [
    "Exponents and logarithms\n",
    "==="
   ]
  },
  {
   "cell_type": "code",
   "execution_count": 140,
   "id": "b02a13eb",
   "metadata": {},
   "outputs": [],
   "source": [
    "x = [1,2,3]"
   ]
  },
  {
   "cell_type": "code",
   "execution_count": 141,
   "id": "1625652b",
   "metadata": {},
   "outputs": [
    {
     "name": "stdout",
     "output_type": "stream",
     "text": [
      "x= [1, 2, 3]\n",
      "e^x= [ 2.71828183  7.3890561  20.08553692]\n",
      "2^x= [2. 4. 8.]\n",
      "3^x= [ 3  9 27]\n"
     ]
    }
   ],
   "source": [
    "print(\"x=\", x)\n",
    "print(\"e^x=\", np.exp(x))\n",
    "print(\"2^x=\", np.exp2(x))\n",
    "print(\"3^x=\", np.power(3, x))"
   ]
  },
  {
   "cell_type": "code",
   "execution_count": 142,
   "id": "a9304bbd",
   "metadata": {},
   "outputs": [
    {
     "name": "stdout",
     "output_type": "stream",
     "text": [
      "x= [1, 2, 3]\n",
      "ln(x)= [0.         0.69314718 1.09861229]\n",
      "log2(x) = [0.        1.        1.5849625]\n",
      "log10(x) = [0.         0.30103    0.47712125]\n"
     ]
    }
   ],
   "source": [
    "print(\"x=\", x)\n",
    "print(\"ln(x)=\", np.log(x))\n",
    "print(\"log2(x) =\", np.log2(x))\n",
    "print(\"log10(x) =\", np.log10(x))"
   ]
  },
  {
   "cell_type": "code",
   "execution_count": 145,
   "id": "5cc77a0f",
   "metadata": {},
   "outputs": [
    {
     "name": "stdout",
     "output_type": "stream",
     "text": [
      "exp(x) - 1 = [ 1.71828183  6.3890561  19.08553692]\n",
      "log(1 + x) = [0.69314718 1.09861229 1.38629436]\n"
     ]
    }
   ],
   "source": [
    "print(\"exp(x) - 1 =\", np.expm1(x))\n",
    "print(\"log(1 + x) =\", np.log1p(x))"
   ]
  },
  {
   "cell_type": "markdown",
   "id": "afe86d53",
   "metadata": {},
   "source": [
    "Specialized ufuncs\n",
    "==="
   ]
  },
  {
   "cell_type": "code",
   "execution_count": 147,
   "id": "12a32de7",
   "metadata": {},
   "outputs": [],
   "source": [
    "from scipy import special"
   ]
  },
  {
   "cell_type": "code",
   "execution_count": 148,
   "id": "5f736f76",
   "metadata": {},
   "outputs": [],
   "source": [
    "x =[1,5,6,7]"
   ]
  },
  {
   "cell_type": "code",
   "execution_count": 149,
   "id": "659a03b1",
   "metadata": {},
   "outputs": [
    {
     "name": "stdout",
     "output_type": "stream",
     "text": [
      "gamma(x) [  1.  24. 120. 720.]\n"
     ]
    }
   ],
   "source": [
    "print(\"gamma(x)\",special.gamma(x))"
   ]
  },
  {
   "cell_type": "code",
   "execution_count": 151,
   "id": "980bcefa",
   "metadata": {},
   "outputs": [
    {
     "name": "stdout",
     "output_type": "stream",
     "text": [
      "gammaln(x) [0.         3.17805383 4.78749174 6.57925121]\n"
     ]
    }
   ],
   "source": [
    "print(\"gammaln(x)\",special.gammaln(x))"
   ]
  },
  {
   "cell_type": "code",
   "execution_count": 153,
   "id": "3bf371ac",
   "metadata": {},
   "outputs": [
    {
     "name": "stdout",
     "output_type": "stream",
     "text": [
      "beta(x) [0.5        0.03333333 0.02380952 0.01785714]\n"
     ]
    }
   ],
   "source": [
    "print(\"beta(x)\",special.beta(x,2))"
   ]
  },
  {
   "cell_type": "code",
   "execution_count": 154,
   "id": "1a7d1e9b",
   "metadata": {},
   "outputs": [],
   "source": [
    "x = np.array([0, 0.3, 0.7, 1.0])"
   ]
  },
  {
   "cell_type": "code",
   "execution_count": 155,
   "id": "4b17d190",
   "metadata": {},
   "outputs": [
    {
     "name": "stdout",
     "output_type": "stream",
     "text": [
      "erf(x) = [0.         0.32862676 0.67780119 0.84270079]\n",
      "erfc(x) = [1.         0.67137324 0.32219881 0.15729921]\n",
      "erfinv(x) = [0.         0.27246271 0.73286908        inf]\n"
     ]
    }
   ],
   "source": [
    "print(\"erf(x) =\", special.erf(x))\n",
    "print(\"erfc(x) =\", special.erfc(x))\n",
    "print(\"erfinv(x) =\", special.erfinv(x))"
   ]
  },
  {
   "cell_type": "markdown",
   "id": "34a36ef1",
   "metadata": {},
   "source": [
    "Advanced Ufunc Features\n",
    "==="
   ]
  },
  {
   "cell_type": "markdown",
   "id": "fa1f1398",
   "metadata": {},
   "source": [
    "Specifying output\n",
    "---"
   ]
  },
  {
   "cell_type": "code",
   "execution_count": 156,
   "id": "a5400d14",
   "metadata": {},
   "outputs": [],
   "source": [
    "x=np.arange(6)\n"
   ]
  },
  {
   "cell_type": "code",
   "execution_count": 157,
   "id": "f55a97f3",
   "metadata": {},
   "outputs": [],
   "source": [
    "y=np.empty(6)"
   ]
  },
  {
   "cell_type": "code",
   "execution_count": 159,
   "id": "62a5bdc1",
   "metadata": {},
   "outputs": [
    {
     "data": {
      "text/plain": [
       "array([0, 1, 2, 3, 4, 5])"
      ]
     },
     "execution_count": 159,
     "metadata": {},
     "output_type": "execute_result"
    }
   ],
   "source": [
    "x"
   ]
  },
  {
   "cell_type": "code",
   "execution_count": 160,
   "id": "3e3783c4",
   "metadata": {},
   "outputs": [
    {
     "data": {
      "text/plain": [
       "array([0.02702703, 0.02857143, 0.02040816, 0.01234568, 0.01960784,\n",
       "       0.07142857])"
      ]
     },
     "execution_count": 160,
     "metadata": {},
     "output_type": "execute_result"
    }
   ],
   "source": [
    "y"
   ]
  },
  {
   "cell_type": "code",
   "execution_count": 162,
   "id": "835e5f14",
   "metadata": {},
   "outputs": [
    {
     "data": {
      "text/plain": [
       "array([  0.,  34.,  68., 102., 136., 170.])"
      ]
     },
     "execution_count": 162,
     "metadata": {},
     "output_type": "execute_result"
    }
   ],
   "source": [
    "np.multiply(x,34, out=y)"
   ]
  },
  {
   "cell_type": "code",
   "execution_count": 167,
   "id": "e77deba2",
   "metadata": {},
   "outputs": [
    {
     "data": {
      "text/plain": [
       "array([ 1.,  2.,  4.,  8., 16.])"
      ]
     },
     "execution_count": 167,
     "metadata": {},
     "output_type": "execute_result"
    }
   ],
   "source": [
    "x = np.arange(5)\n",
    "y = np.zeros(10)\n",
    "np.power(2,x, out=y[::2])"
   ]
  },
  {
   "cell_type": "markdown",
   "id": "41d313ee",
   "metadata": {},
   "source": [
    "Aggregates\n",
    "---"
   ]
  },
  {
   "cell_type": "code",
   "execution_count": 168,
   "id": "26ab4e3a",
   "metadata": {},
   "outputs": [
    {
     "data": {
      "text/plain": [
       "15"
      ]
     },
     "execution_count": 168,
     "metadata": {},
     "output_type": "execute_result"
    }
   ],
   "source": [
    "x =np.arange(1,6)\n",
    "np.add.reduce(x)"
   ]
  },
  {
   "cell_type": "code",
   "execution_count": 169,
   "id": "e497454a",
   "metadata": {},
   "outputs": [
    {
     "data": {
      "text/plain": [
       "120"
      ]
     },
     "execution_count": 169,
     "metadata": {},
     "output_type": "execute_result"
    }
   ],
   "source": [
    "np.multiply.reduce(x)"
   ]
  },
  {
   "cell_type": "code",
   "execution_count": 171,
   "id": "4b9e3053",
   "metadata": {},
   "outputs": [
    {
     "data": {
      "text/plain": [
       "array([  1,   2,   6,  24, 120])"
      ]
     },
     "execution_count": 171,
     "metadata": {},
     "output_type": "execute_result"
    }
   ],
   "source": [
    "np.multiply.accumulate(x)"
   ]
  },
  {
   "cell_type": "markdown",
   "id": "a92f17a2",
   "metadata": {},
   "source": [
    "Outer products\n",
    "---"
   ]
  },
  {
   "cell_type": "code",
   "execution_count": 173,
   "id": "3e058b62",
   "metadata": {},
   "outputs": [
    {
     "data": {
      "text/plain": [
       "array([[  1,   2,   3,   4,   5,   6,   7,   8,   9,  10],\n",
       "       [  2,   4,   6,   8,  10,  12,  14,  16,  18,  20],\n",
       "       [  3,   6,   9,  12,  15,  18,  21,  24,  27,  30],\n",
       "       [  4,   8,  12,  16,  20,  24,  28,  32,  36,  40],\n",
       "       [  5,  10,  15,  20,  25,  30,  35,  40,  45,  50],\n",
       "       [  6,  12,  18,  24,  30,  36,  42,  48,  54,  60],\n",
       "       [  7,  14,  21,  28,  35,  42,  49,  56,  63,  70],\n",
       "       [  8,  16,  24,  32,  40,  48,  56,  64,  72,  80],\n",
       "       [  9,  18,  27,  36,  45,  54,  63,  72,  81,  90],\n",
       "       [ 10,  20,  30,  40,  50,  60,  70,  80,  90, 100]])"
      ]
     },
     "execution_count": 173,
     "metadata": {},
     "output_type": "execute_result"
    }
   ],
   "source": [
    "x =np.arange(1,11)\n",
    "np.multiply.outer(x,x)"
   ]
  },
  {
   "cell_type": "markdown",
   "id": "9ce46b5d",
   "metadata": {},
   "source": [
    "Aggregations: Min, Max, and Everything in Between\n",
    "--------"
   ]
  },
  {
   "cell_type": "markdown",
   "id": "14527449",
   "metadata": {},
   "source": [
    "Summing the Values in an Array\n",
    "-----------"
   ]
  },
  {
   "cell_type": "code",
   "execution_count": 178,
   "id": "2822c7bf",
   "metadata": {},
   "outputs": [],
   "source": [
    "L = np.random.random(100)"
   ]
  },
  {
   "cell_type": "code",
   "execution_count": 179,
   "id": "fd6192da",
   "metadata": {},
   "outputs": [
    {
     "data": {
      "text/plain": [
       "array([0.11128321, 0.72326852, 0.23132159, 0.52149719, 0.3901174 ,\n",
       "       0.67401623, 0.40524344, 0.81539124, 0.17819784, 0.90672789,\n",
       "       0.77793048, 0.98588914, 0.51969189, 0.13544545, 0.88407061,\n",
       "       0.55291557, 0.26449655, 0.76972556, 0.9111481 , 0.07137686,\n",
       "       0.07977028, 0.1517289 , 0.4215179 , 0.45481722, 0.43856647,\n",
       "       0.36086827, 0.74449753, 0.47791313, 0.38506262, 0.90682102,\n",
       "       0.32781957, 0.68913804, 0.49092774, 0.06847738, 0.47214515,\n",
       "       0.42156897, 0.84753227, 0.30519284, 0.73825413, 0.26493458,\n",
       "       0.52104499, 0.69335667, 0.57716991, 0.10729072, 0.51138663,\n",
       "       0.27046987, 0.49634099, 0.7328446 , 0.93445767, 0.29805022,\n",
       "       0.44847452, 0.29231387, 0.7727834 , 0.95256815, 0.94657045,\n",
       "       0.72719915, 0.60188181, 0.26707687, 0.94172661, 0.89181063,\n",
       "       0.79173628, 0.69188652, 0.85520551, 0.74137445, 0.36964283,\n",
       "       0.94572892, 0.43487551, 0.63106578, 0.54549837, 0.48180453,\n",
       "       0.15225666, 0.6423233 , 0.12462717, 0.17410931, 0.61453415,\n",
       "       0.91812095, 0.83521166, 0.40807403, 0.07975492, 0.9226359 ,\n",
       "       0.55157854, 0.1228896 , 0.22275492, 0.30257612, 0.35043717,\n",
       "       0.40867881, 0.73352166, 0.09877368, 0.47075458, 0.91845584,\n",
       "       0.92910693, 0.12650387, 0.79696824, 0.61177168, 0.99455734,\n",
       "       0.82887912, 0.97082158, 0.26627151, 0.92622147, 0.31413159])"
      ]
     },
     "execution_count": 179,
     "metadata": {},
     "output_type": "execute_result"
    }
   ],
   "source": [
    "L"
   ]
  },
  {
   "cell_type": "code",
   "execution_count": 180,
   "id": "39649a73",
   "metadata": {},
   "outputs": [
    {
     "data": {
      "text/plain": [
       "54.16824750379482"
      ]
     },
     "execution_count": 180,
     "metadata": {},
     "output_type": "execute_result"
    }
   ],
   "source": [
    "sum(L)"
   ]
  },
  {
   "cell_type": "code",
   "execution_count": 181,
   "id": "0ef42369",
   "metadata": {},
   "outputs": [
    {
     "name": "stdout",
     "output_type": "stream",
     "text": [
      "12.6 µs ± 633 ns per loop (mean ± std. dev. of 7 runs, 100000 loops each)\n"
     ]
    }
   ],
   "source": [
    "%timeit sum(L)"
   ]
  },
  {
   "cell_type": "code",
   "execution_count": 182,
   "id": "1609c935",
   "metadata": {},
   "outputs": [
    {
     "name": "stdout",
     "output_type": "stream",
     "text": [
      "114 ms ± 175 µs per loop (mean ± std. dev. of 7 runs, 10 loops each)\n",
      "649 µs ± 15.6 µs per loop (mean ± std. dev. of 7 runs, 1000 loops each)\n"
     ]
    }
   ],
   "source": [
    "big_array = np.random.rand(1000000)\n",
    "%timeit sum(big_array)\n",
    "%timeit np.sum(big_array)"
   ]
  },
  {
   "cell_type": "markdown",
   "id": "44996888",
   "metadata": {},
   "source": [
    "Minimum and Maximum\n",
    "---"
   ]
  },
  {
   "cell_type": "code",
   "execution_count": 183,
   "id": "6e5aee5d",
   "metadata": {},
   "outputs": [
    {
     "data": {
      "text/plain": [
       "3.847603677886724e-07"
      ]
     },
     "execution_count": 183,
     "metadata": {},
     "output_type": "execute_result"
    }
   ],
   "source": [
    "np.min(big_array)"
   ]
  },
  {
   "cell_type": "code",
   "execution_count": 184,
   "id": "2dbf84e1",
   "metadata": {},
   "outputs": [
    {
     "data": {
      "text/plain": [
       "0.9999981307495046"
      ]
     },
     "execution_count": 184,
     "metadata": {},
     "output_type": "execute_result"
    }
   ],
   "source": [
    "np.max(big_array)"
   ]
  },
  {
   "cell_type": "code",
   "execution_count": 185,
   "id": "0f002155",
   "metadata": {},
   "outputs": [
    {
     "name": "stdout",
     "output_type": "stream",
     "text": [
      "CPU times: user 123 ms, sys: 32 µs, total: 123 ms\n",
      "Wall time: 121 ms\n"
     ]
    },
    {
     "data": {
      "text/plain": [
       "3.847603677886724e-07"
      ]
     },
     "execution_count": 185,
     "metadata": {},
     "output_type": "execute_result"
    }
   ],
   "source": [
    "%time min(big_array)"
   ]
  },
  {
   "cell_type": "code",
   "execution_count": 186,
   "id": "e902c4da",
   "metadata": {},
   "outputs": [
    {
     "name": "stdout",
     "output_type": "stream",
     "text": [
      "689 µs ± 43.8 µs per loop (mean ± std. dev. of 7 runs, 1000 loops each)\n"
     ]
    }
   ],
   "source": [
    "%timeit np.min(big_array)"
   ]
  },
  {
   "cell_type": "markdown",
   "id": "49d2f8d9",
   "metadata": {},
   "source": [
    "Multidimensional aggregates\n",
    "-----"
   ]
  },
  {
   "cell_type": "code",
   "execution_count": 188,
   "id": "72b1bf5b",
   "metadata": {},
   "outputs": [],
   "source": [
    "M =np.random.random((3,5))"
   ]
  },
  {
   "cell_type": "code",
   "execution_count": 189,
   "id": "17328b3e",
   "metadata": {},
   "outputs": [
    {
     "data": {
      "text/plain": [
       "array([[0.20299428, 0.87482921, 0.95422416, 0.15603934, 0.21274441],\n",
       "       [0.09323502, 0.9414274 , 0.39005874, 0.44620749, 0.21942692],\n",
       "       [0.79921463, 0.88266587, 0.36081411, 0.31945763, 0.24203609]])"
      ]
     },
     "execution_count": 189,
     "metadata": {},
     "output_type": "execute_result"
    }
   ],
   "source": [
    "M"
   ]
  },
  {
   "cell_type": "code",
   "execution_count": 190,
   "id": "5b0701be",
   "metadata": {},
   "outputs": [
    {
     "data": {
      "text/plain": [
       "7.09537531665009"
      ]
     },
     "execution_count": 190,
     "metadata": {},
     "output_type": "execute_result"
    }
   ],
   "source": [
    "M.sum()"
   ]
  },
  {
   "cell_type": "code",
   "execution_count": 191,
   "id": "113bf462",
   "metadata": {},
   "outputs": [
    {
     "data": {
      "text/plain": [
       "array([0.09323502, 0.87482921, 0.36081411, 0.15603934, 0.21274441])"
      ]
     },
     "execution_count": 191,
     "metadata": {},
     "output_type": "execute_result"
    }
   ],
   "source": [
    "M.min(axis=0)"
   ]
  },
  {
   "cell_type": "code",
   "execution_count": 192,
   "id": "76672a03",
   "metadata": {},
   "outputs": [
    {
     "data": {
      "text/plain": [
       "array([0.95422416, 0.9414274 , 0.88266587])"
      ]
     },
     "execution_count": 192,
     "metadata": {},
     "output_type": "execute_result"
    }
   ],
   "source": [
    "M.max(axis=1)"
   ]
  },
  {
   "cell_type": "code",
   "execution_count": 193,
   "id": "a038bd6b",
   "metadata": {},
   "outputs": [
    {
     "data": {
      "text/plain": [
       "array([0.15603934, 0.09323502, 0.24203609])"
      ]
     },
     "execution_count": 193,
     "metadata": {},
     "output_type": "execute_result"
    }
   ],
   "source": [
    "M.min(axis=1)"
   ]
  },
  {
   "cell_type": "code",
   "execution_count": 194,
   "id": "c31a33a1",
   "metadata": {},
   "outputs": [
    {
     "data": {
      "text/plain": [
       "array([0.79921463, 0.9414274 , 0.95422416, 0.44620749, 0.24203609])"
      ]
     },
     "execution_count": 194,
     "metadata": {},
     "output_type": "execute_result"
    }
   ],
   "source": [
    "M.max(axis=0)"
   ]
  },
  {
   "cell_type": "markdown",
   "id": "6430026d",
   "metadata": {},
   "source": [
    "What Is the Average Height of US Presidents?\n",
    "---------------------"
   ]
  },
  {
   "cell_type": "code",
   "execution_count": 2,
   "id": "2fc1e7fb",
   "metadata": {},
   "outputs": [
    {
     "name": "stdout",
     "output_type": "stream",
     "text": [
      "[189 170 189 163 183 171 185 168 173 183 173 173 175 178 183 193 178 173\n",
      " 174 183 183 168 170 178 182 180 183 178 182 188 175 179 183 193 182 183\n",
      " 177 185 188 188 182 185]\n"
     ]
    }
   ],
   "source": [
    "import pandas as pd\n",
    "import numpy as np\n",
    "data = pd.read_csv('data/president_heights.csv')\n",
    "heights = np.array(data['height(cm)'])\n",
    "print(heights)"
   ]
  },
  {
   "cell_type": "code",
   "execution_count": null,
   "id": "c2c26454",
   "metadata": {},
   "outputs": [],
   "source": []
  },
  {
   "cell_type": "code",
   "execution_count": null,
   "id": "6d90112f",
   "metadata": {},
   "outputs": [],
   "source": []
  },
  {
   "cell_type": "code",
   "execution_count": null,
   "id": "d8978adc",
   "metadata": {},
   "outputs": [],
   "source": []
  },
  {
   "cell_type": "code",
   "execution_count": null,
   "id": "b8b9a27f",
   "metadata": {},
   "outputs": [],
   "source": []
  }
 ],
 "metadata": {
  "kernelspec": {
   "display_name": "Python 3 (ipykernel)",
   "language": "python",
   "name": "python3"
  },
  "language_info": {
   "codemirror_mode": {
    "name": "ipython",
    "version": 3
   },
   "file_extension": ".py",
   "mimetype": "text/x-python",
   "name": "python",
   "nbconvert_exporter": "python",
   "pygments_lexer": "ipython3",
   "version": "3.10.6"
  }
 },
 "nbformat": 4,
 "nbformat_minor": 5
}
