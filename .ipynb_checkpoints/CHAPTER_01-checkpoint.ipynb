{
 "cells": [
  {
   "cell_type": "markdown",
   "id": "2093f26e",
   "metadata": {},
   "source": [
    "CHAPTER-1 IPython: Beyond Normal python\n",
    "======================"
   ]
  },
  {
   "cell_type": "markdown",
   "id": "30365b2d",
   "metadata": {},
   "source": [
    "Accessing Documentation with ?\n",
    "----------------------\n",
    "\n",
    "The Python language and its data science ecosystem are built with the user in mind,\n",
    "and one big part of that is access to documentation. Every Python object contains the reference to a string, known as a docstring, which in most cases will contain a concise\n",
    "summary of the object and how to use it. Python has a built-in help() function that\n",
    "can access this information and print the results. For example, to see the documenta‐\n",
    "tion of the built-in len function, you can do the following:"
   ]
  },
  {
   "cell_type": "code",
   "execution_count": 1,
   "id": "6b226e52",
   "metadata": {},
   "outputs": [
    {
     "name": "stdout",
     "output_type": "stream",
     "text": [
      "Help on built-in function len in module builtins:\n",
      "\n",
      "len(obj, /)\n",
      "    Return the number of items in a container.\n",
      "\n"
     ]
    }
   ],
   "source": [
    "help(len)"
   ]
  },
  {
   "cell_type": "code",
   "execution_count": 2,
   "id": "df901952",
   "metadata": {},
   "outputs": [],
   "source": [
    "len?"
   ]
  },
  {
   "cell_type": "code",
   "execution_count": 3,
   "id": "b34b35cf",
   "metadata": {},
   "outputs": [],
   "source": [
    "L = [1, 2, 3]\n",
    "L.insert?"
   ]
  },
  {
   "cell_type": "code",
   "execution_count": 4,
   "id": "2dcdbaf1",
   "metadata": {},
   "outputs": [],
   "source": [
    "L?\n"
   ]
  },
  {
   "cell_type": "code",
   "execution_count": 5,
   "id": "8a074595",
   "metadata": {},
   "outputs": [],
   "source": [
    "def square(a):\n",
    "    return a**2"
   ]
  },
  {
   "cell_type": "code",
   "execution_count": 6,
   "id": "4d8ec79f",
   "metadata": {},
   "outputs": [],
   "source": [
    "square?"
   ]
  },
  {
   "cell_type": "markdown",
   "id": "7bdb368e",
   "metadata": {},
   "source": [
    "Accessing Source Code with ??\n",
    "----------------------------\n",
    "Because the Python language is so easily readable, you can usually gain another level\n",
    "of insight by reading the source code of the object you’re curious about. IPython pro‐\n",
    "vides a shortcut to the source code with the double question mark (??)"
   ]
  },
  {
   "cell_type": "code",
   "execution_count": 7,
   "id": "d8d33061",
   "metadata": {},
   "outputs": [],
   "source": [
    "square??"
   ]
  },
  {
   "cell_type": "code",
   "execution_count": 8,
   "id": "efbe4111",
   "metadata": {},
   "outputs": [],
   "source": [
    "len??"
   ]
  },
  {
   "cell_type": "markdown",
   "id": "839e491d",
   "metadata": {},
   "source": [
    "Exploring Modules with Tab Completion\n",
    "----------------------------\n",
    "IPython’s other useful interface is the use of the Tab key for autocompletion and\n",
    "exploration of the contents of objects, modules, and namespaces. In the examples that\n",
    "follow, we’ll use <TAB> to indicate when the Tab key should be pressed.\n",
    "\n",
    "Tab completion of object contents\n",
    "----------------------------------\n",
    "Every Python object has various attributes and methods associated with it. Like with\n",
    "the help function discussed before, Python has a built-in dir function that returns a\n",
    "list of these, but the tab-completion interface is much easier to use in practice. To see\n",
    "a list of all available attributes of an object, you can type the name of the object fol‐\n",
    "lowed by a period (.) character and the Tab key:"
   ]
  },
  {
   "cell_type": "code",
   "execution_count": 9,
   "id": "3b0b53f2",
   "metadata": {},
   "outputs": [
    {
     "ename": "SyntaxError",
     "evalue": "invalid syntax (Temp/ipykernel_7064/3480954309.py, line 2)",
     "output_type": "error",
     "traceback": [
      "\u001b[1;36m  Input \u001b[1;32mIn [9]\u001b[1;36m\u001b[0m\n\u001b[1;33m    L.<TAB>\u001b[0m\n\u001b[1;37m      ^\u001b[0m\n\u001b[1;31mSyntaxError\u001b[0m\u001b[1;31m:\u001b[0m invalid syntax\n"
     ]
    }
   ],
   "source": [
    "# <TAB> ==> PRESS TAB KEY\n",
    "L.<TAB>"
   ]
  },
  {
   "cell_type": "code",
   "execution_count": 10,
   "id": "469bdaba",
   "metadata": {},
   "outputs": [
    {
     "ename": "SyntaxError",
     "evalue": "invalid syntax (Temp/ipykernel_7064/834661862.py, line 2)",
     "output_type": "error",
     "traceback": [
      "\u001b[1;36m  Input \u001b[1;32mIn [10]\u001b[1;36m\u001b[0m\n\u001b[1;33m    L.c<TAB>\u001b[0m\n\u001b[1;37m            ^\u001b[0m\n\u001b[1;31mSyntaxError\u001b[0m\u001b[1;31m:\u001b[0m invalid syntax\n"
     ]
    }
   ],
   "source": [
    "# <TAB> ==> PRESS TAB KEY\n",
    "L.c<TAB>"
   ]
  },
  {
   "cell_type": "code",
   "execution_count": 11,
   "id": "5ba87b26",
   "metadata": {},
   "outputs": [
    {
     "ename": "SyntaxError",
     "evalue": "invalid syntax (Temp/ipykernel_7064/2714671588.py, line 2)",
     "output_type": "error",
     "traceback": [
      "\u001b[1;36m  Input \u001b[1;32mIn [11]\u001b[1;36m\u001b[0m\n\u001b[1;33m    L._<TAB>\u001b[0m\n\u001b[1;37m            ^\u001b[0m\n\u001b[1;31mSyntaxError\u001b[0m\u001b[1;31m:\u001b[0m invalid syntax\n"
     ]
    }
   ],
   "source": [
    "# <TAB> ==> PRESS TAB KEY\n",
    "L._<TAB>"
   ]
  },
  {
   "cell_type": "markdown",
   "id": "ac692852",
   "metadata": {},
   "source": [
    "Tab completion when importing\n",
    "-----------------------"
   ]
  },
  {
   "cell_type": "code",
   "execution_count": 12,
   "id": "4b45dae1",
   "metadata": {},
   "outputs": [
    {
     "ename": "SyntaxError",
     "evalue": "invalid syntax (Temp/ipykernel_7064/2694659054.py, line 2)",
     "output_type": "error",
     "traceback": [
      "\u001b[1;36m  Input \u001b[1;32mIn [12]\u001b[1;36m\u001b[0m\n\u001b[1;33m    from itertools import co<TAB>\u001b[0m\n\u001b[1;37m                            ^\u001b[0m\n\u001b[1;31mSyntaxError\u001b[0m\u001b[1;31m:\u001b[0m invalid syntax\n"
     ]
    }
   ],
   "source": [
    "# <TAB> ==> PRESS TAB KEY\n",
    "from itertools import co<TAB>\n"
   ]
  },
  {
   "cell_type": "code",
   "execution_count": 13,
   "id": "f451b06c",
   "metadata": {},
   "outputs": [
    {
     "ename": "SyntaxError",
     "evalue": "invalid syntax (Temp/ipykernel_7064/3163918345.py, line 2)",
     "output_type": "error",
     "traceback": [
      "\u001b[1;36m  Input \u001b[1;32mIn [13]\u001b[1;36m\u001b[0m\n\u001b[1;33m    import<TAB>\u001b[0m\n\u001b[1;37m          ^\u001b[0m\n\u001b[1;31mSyntaxError\u001b[0m\u001b[1;31m:\u001b[0m invalid syntax\n"
     ]
    }
   ],
   "source": [
    "# <TAB> ==> PRESS TAB KEY\n",
    "import<TAB>"
   ]
  },
  {
   "cell_type": "code",
   "execution_count": 14,
   "id": "ba35f9cf",
   "metadata": {},
   "outputs": [],
   "source": [
    " *Warning?"
   ]
  },
  {
   "cell_type": "code",
   "execution_count": 15,
   "id": "d3960b38",
   "metadata": {},
   "outputs": [],
   "source": [
    "  str.*find*?"
   ]
  },
  {
   "cell_type": "markdown",
   "id": "d758e54e",
   "metadata": {},
   "source": [
    "Input and Output History\n",
    "--------------------\n",
    "Previously we saw that the IPython shell allows you to access previous commands\n",
    "with the up and down arrow keys, or equivalently the Ctrl-p/Ctrl-n shortcuts. Addi‐\n",
    "tionally, in both the shell and the notebook, IPython exposes several ways to obtain\n",
    "the output of previous commands, as well as string versions of the commands them‐\n",
    "selves. We’ll explore those here.\n",
    "\n",
    "IPython’s In and Out Objects\n",
    "--------------------\n",
    "By now I imagine you’re quite familiar with the In[1]:/Out[1]: style prompts used\n",
    "by IPython. But it turns out that these are not just pretty decoration: they give a clue as to how you can access previous inputs and outputs in your current session. Imag‐\n",
    "ine you start a session that looks like this:"
   ]
  },
  {
   "cell_type": "code",
   "execution_count": 16,
   "id": "71407b6d",
   "metadata": {},
   "outputs": [],
   "source": [
    "import math"
   ]
  },
  {
   "cell_type": "code",
   "execution_count": 17,
   "id": "6e2eeb86",
   "metadata": {},
   "outputs": [
    {
     "data": {
      "text/plain": [
       "0.9092974268256817"
      ]
     },
     "execution_count": 17,
     "metadata": {},
     "output_type": "execute_result"
    }
   ],
   "source": [
    "math.sin(2)"
   ]
  },
  {
   "cell_type": "code",
   "execution_count": 18,
   "id": "bf1d205c",
   "metadata": {},
   "outputs": [
    {
     "name": "stdout",
     "output_type": "stream",
     "text": [
      "math.sin(2)\n"
     ]
    }
   ],
   "source": [
    "print(In[17])"
   ]
  },
  {
   "cell_type": "code",
   "execution_count": 19,
   "id": "e94c3d80",
   "metadata": {},
   "outputs": [
    {
     "name": "stdout",
     "output_type": "stream",
     "text": [
      "0.9092974268256817\n"
     ]
    }
   ],
   "source": [
    "print(Out[17])"
   ]
  },
  {
   "cell_type": "code",
   "execution_count": 20,
   "id": "defb23fc",
   "metadata": {},
   "outputs": [
    {
     "data": {
      "text/plain": [
       "1.653643620863612"
      ]
     },
     "execution_count": 20,
     "metadata": {},
     "output_type": "execute_result"
    }
   ],
   "source": [
    "Out[17]**2 + Out[17]**2"
   ]
  },
  {
   "cell_type": "markdown",
   "id": "3f361444",
   "metadata": {},
   "source": [
    "Underscore Shortcuts and Previous Outputs\n",
    "------------------------------------\n",
    "The standard Python shell contains just one simple shortcut for accessing previous\n",
    "output; the variable _ (i.e., a single underscore) is kept updated with the previous out‐\n",
    "put; this works in IPython as well:"
   ]
  },
  {
   "cell_type": "code",
   "execution_count": 21,
   "id": "91ef91f1",
   "metadata": {},
   "outputs": [
    {
     "name": "stdout",
     "output_type": "stream",
     "text": [
      "1.653643620863612\n"
     ]
    }
   ],
   "source": [
    "print(_)\n"
   ]
  },
  {
   "cell_type": "code",
   "execution_count": 22,
   "id": "740cba01",
   "metadata": {},
   "outputs": [
    {
     "name": "stdout",
     "output_type": "stream",
     "text": [
      "0.9092974268256817\n"
     ]
    }
   ],
   "source": [
    "print(__)"
   ]
  },
  {
   "cell_type": "code",
   "execution_count": 24,
   "id": "72fd0d25",
   "metadata": {},
   "outputs": [
    {
     "data": {
      "text/plain": [
       "0.9092974268256817"
      ]
     },
     "execution_count": 24,
     "metadata": {},
     "output_type": "execute_result"
    }
   ],
   "source": [
    "Out[17]"
   ]
  },
  {
   "cell_type": "code",
   "execution_count": null,
   "id": "ff1252cb",
   "metadata": {},
   "outputs": [],
   "source": []
  },
  {
   "cell_type": "markdown",
   "id": "22d40a34",
   "metadata": {},
   "source": [
    "Suppressing Output\n",
    "---------\n",
    "Sometimes you might wish to suppress the output of a statement (this is perhaps\n",
    "most common with the plotting commands that we’ll explore in Chapter 4 ). Or\n",
    "maybe the command you’re executing produces a result that you’d prefer not to store\n",
    "in your output history, perhaps so that it can be deallocated when other references are\n",
    "removed. The easiest way to suppress the output of a command is to add a semicolon\n",
    "to the end of the line:"
   ]
  },
  {
   "cell_type": "code",
   "execution_count": 28,
   "id": "fcb6f2ec",
   "metadata": {},
   "outputs": [],
   "source": [
    "math.sin(2) + math.sin(2);"
   ]
  },
  {
   "cell_type": "code",
   "execution_count": 29,
   "id": "860f6a40",
   "metadata": {},
   "outputs": [
    {
     "data": {
      "text/plain": [
       "False"
      ]
     },
     "execution_count": 29,
     "metadata": {},
     "output_type": "execute_result"
    }
   ],
   "source": [
    "16 in Out"
   ]
  },
  {
   "cell_type": "markdown",
   "id": "12ecc3f0",
   "metadata": {},
   "source": [
    "Related Magic Commands\n",
    "----------------------\n",
    "For accessing a batch of previous inputs at once, the %history magic command is\n",
    "very helpful. Here is how you can print the first four inputs:"
   ]
  },
  {
   "cell_type": "code",
   "execution_count": 30,
   "id": "d7b678b9",
   "metadata": {},
   "outputs": [
    {
     "name": "stdout",
     "output_type": "stream",
     "text": [
      "help(len)\n",
      "len?\n",
      "L = [1, 2, 3]\n",
      "L.insert?\n",
      "L?\n",
      "def square(a):\n",
      "    return a**2\n",
      "square?\n",
      "square??\n",
      "len??\n",
      "# <TAB> ==> PRESS TAB KEY\n",
      "L.<TAB>\n",
      "# <TAB> ==> PRESS TAB KEY\n",
      "L.c<TAB>\n",
      "# <TAB> ==> PRESS TAB KEY\n",
      "L._<TAB>\n",
      "# <TAB> ==> PRESS TAB KEY\n",
      "from itertools import co<TAB>\n",
      "# <TAB> ==> PRESS TAB KEY\n",
      "import<TAB>\n",
      " *Warning?\n",
      "  str.*find*?\n",
      "import math\n",
      "math.sin(2)\n",
      "print(In[17])\n",
      "print(Out[17])\n",
      "Out[17]**2 + Out[17]**2\n",
      "print(_)\n",
      "print(__)\n",
      "Out[22]\n",
      "Out[17]\n",
      "_2\n",
      "Out[_2]\n",
      "Out[2]\n",
      "math.sin(2) + math.sin(2);\n",
      "16 in Out\n",
      "%history\n"
     ]
    }
   ],
   "source": [
    "%history\n"
   ]
  },
  {
   "cell_type": "code",
   "execution_count": 31,
   "id": "184fd1dc",
   "metadata": {},
   "outputs": [
    {
     "name": "stdout",
     "output_type": "stream",
     "text": [
      "  14:  *Warning?\n",
      "  15:   str.*find*?\n",
      "  16: import math\n",
      "  17: math.sin(2)\n",
      "  18: print(In[17])\n"
     ]
    }
   ],
   "source": [
    "%history -n 14-18"
   ]
  },
  {
   "cell_type": "markdown",
   "id": "1c5e76fc",
   "metadata": {},
   "source": [
    "Shell Commands in IPython\n",
    "-------------\n",
    "\n",
    "You can use any command that works at the command line in IPython by prefixing it\n",
    "with the ! character. For example, the ls, pwd, and echo commands can be run as\n",
    "follows:"
   ]
  },
  {
   "cell_type": "code",
   "execution_count": 32,
   "id": "2c50c0d8",
   "metadata": {},
   "outputs": [
    {
     "name": "stdout",
     "output_type": "stream",
     "text": [
      " Volume in drive C is SYSTEM\n",
      " Volume Serial Number is DCA8-5FD6\n",
      "\n",
      " Directory of C:\\Users\\ZEPHYRUS\\Links\\ESSENTIAL_TOOLS_FOR_WORKING_WITH_DATA\n",
      "\n",
      "24-01-2022  08:00    <DIR>          .\n",
      "24-01-2022  08:00    <DIR>          ..\n",
      "19-01-2022  09:43    <DIR>          .ipynb_checkpoints\n",
      "24-01-2022  08:00            18,089 CHAPTER_01.ipynb\n",
      "19-01-2022  12:37            33,995 CHAPTER_02.ipynb\n",
      "17-01-2022  10:06               287 README.md\n",
      "17-01-2022  10:06        22,321,280 TOOLS  FOR  WORKING  WITH  DATA.pdf\n",
      "               4 File(s)     22,373,651 bytes\n",
      "               3 Dir(s)  75,793,850,368 bytes free\n"
     ]
    }
   ],
   "source": [
    "ls"
   ]
  },
  {
   "cell_type": "code",
   "execution_count": 33,
   "id": "7d570606",
   "metadata": {},
   "outputs": [
    {
     "data": {
      "text/plain": [
       "'C:\\\\Users\\\\ZEPHYRUS\\\\Links\\\\ESSENTIAL_TOOLS_FOR_WORKING_WITH_DATA'"
      ]
     },
     "execution_count": 33,
     "metadata": {},
     "output_type": "execute_result"
    }
   ],
   "source": [
    "pwd"
   ]
  },
  {
   "cell_type": "code",
   "execution_count": 34,
   "id": "3ae5b54c",
   "metadata": {},
   "outputs": [
    {
     "name": "stdout",
     "output_type": "stream",
     "text": [
      "\"Hello World\"\n"
     ]
    }
   ],
   "source": [
    "echo \"Hello World\""
   ]
  },
  {
   "cell_type": "markdown",
   "id": "93978cd1",
   "metadata": {},
   "source": [
    "Passing Values to and from the Shell\n",
    "------------------------------------\n",
    "Shell commands can not only be called from IPython, but can also be made to inter‐\n",
    "act with the IPython namespace. For example, you can save the output of any shell\n",
    "command to a Python list using the assignment operator:"
   ]
  },
  {
   "cell_type": "code",
   "execution_count": 35,
   "id": "3b15bd91",
   "metadata": {},
   "outputs": [],
   "source": [
    "message = \"Hello World\""
   ]
  },
  {
   "cell_type": "code",
   "execution_count": 36,
   "id": "c3b11868",
   "metadata": {},
   "outputs": [
    {
     "name": "stdout",
     "output_type": "stream",
     "text": [
      "Hello World\n"
     ]
    }
   ],
   "source": [
    "echo {message}\n"
   ]
  },
  {
   "cell_type": "markdown",
   "id": "4235b2d3",
   "metadata": {},
   "source": [
    "Errors and Debugging\n",
    "--------------\n",
    "\n",
    "Code development and data analysis always require a bit of trial and error, and\n",
    "IPython contains tools to streamline this process. This section will briefly cover some\n",
    "options for controlling Python’s exception reporting, followed by exploring tools for\n",
    "debugging errors in code."
   ]
  },
  {
   "cell_type": "code",
   "execution_count": null,
   "id": "799b8b9a",
   "metadata": {},
   "outputs": [],
   "source": []
  },
  {
   "cell_type": "code",
   "execution_count": null,
   "id": "71909ad2",
   "metadata": {},
   "outputs": [],
   "source": []
  }
 ],
 "metadata": {
  "kernelspec": {
   "display_name": "Python 3",
   "language": "python",
   "name": "python3"
  },
  "language_info": {
   "codemirror_mode": {
    "name": "ipython",
    "version": 3
   },
   "file_extension": ".py",
   "mimetype": "text/x-python",
   "name": "python",
   "nbconvert_exporter": "python",
   "pygments_lexer": "ipython3",
   "version": "3.7.16"
  }
 },
 "nbformat": 4,
 "nbformat_minor": 5
}
