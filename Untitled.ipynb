{
 "cells": [
  {
   "cell_type": "code",
   "execution_count": 3,
   "id": "3dc10cd4-1954-46f7-8fa2-c21bd7d42af7",
   "metadata": {},
   "outputs": [],
   "source": [
    "import numpy as np"
   ]
  },
  {
   "cell_type": "code",
   "execution_count": 130,
   "id": "ac024b0a-e7e6-4e19-8b67-aca73f01af9f",
   "metadata": {},
   "outputs": [],
   "source": [
    "x = [1,2,3,4,5,6,7,8,9]\n",
    "x1 = np.array([1,2,3,4,5,6,7,8,9])"
   ]
  },
  {
   "cell_type": "code",
   "execution_count": 131,
   "id": "6e375845-a1f2-4baf-894f-69703badfef6",
   "metadata": {},
   "outputs": [
    {
     "data": {
      "text/plain": [
       "list"
      ]
     },
     "execution_count": 131,
     "metadata": {},
     "output_type": "execute_result"
    }
   ],
   "source": [
    "type(x)"
   ]
  },
  {
   "cell_type": "code",
   "execution_count": 132,
   "id": "d9fe6cd7-46a0-4a45-86f7-1ea192a739ce",
   "metadata": {},
   "outputs": [
    {
     "data": {
      "text/plain": [
       "numpy.ndarray"
      ]
     },
     "execution_count": 132,
     "metadata": {},
     "output_type": "execute_result"
    }
   ],
   "source": [
    "type(x1)"
   ]
  },
  {
   "cell_type": "code",
   "execution_count": 133,
   "id": "ed1072d8-0ddd-4434-9120-ccd4bb184836",
   "metadata": {},
   "outputs": [],
   "source": [
    "import time"
   ]
  },
  {
   "cell_type": "code",
   "execution_count": 134,
   "id": "131bfe3b-f882-4fe7-b267-eace102cc96a",
   "metadata": {},
   "outputs": [
    {
     "name": "stdout",
     "output_type": "stream",
     "text": [
      "--- 9.703636169433594e-05 seconds ---\n"
     ]
    }
   ],
   "source": [
    "import time\n",
    "start_time = time.time()\n",
    "q = x*2\n",
    "\n",
    "\n",
    "print(\"--- %s seconds ---\" % (time.time() - start_time))"
   ]
  },
  {
   "cell_type": "code",
   "execution_count": 119,
   "id": "95f9fbcc-b0dd-4b10-84b2-07bdcb2cacea",
   "metadata": {},
   "outputs": [
    {
     "name": "stdout",
     "output_type": "stream",
     "text": [
      "--- 0.00013566017150878906 seconds ---\n"
     ]
    }
   ],
   "source": [
    "import time\n",
    "start_time = time.time()\n",
    "q = x1*9\n",
    "\n",
    "\n",
    "print(\"--- %s seconds ---\" % (time.time() - start_time))"
   ]
  },
  {
   "cell_type": "code",
   "execution_count": 120,
   "id": "d1afe6f1-7dfe-45c8-8183-9fcd6452c5a4",
   "metadata": {},
   "outputs": [
    {
     "data": {
      "text/plain": [
       "array([], dtype=int64)"
      ]
     },
     "execution_count": 120,
     "metadata": {},
     "output_type": "execute_result"
    }
   ],
   "source": [
    "np.array([],dtype=\"int\")"
   ]
  },
  {
   "cell_type": "code",
   "execution_count": 121,
   "id": "b0a8c459-1f16-4294-907a-d3b051289f23",
   "metadata": {},
   "outputs": [
    {
     "data": {
      "text/plain": [
       "array([[1, 2, 3],\n",
       "       [2, 3, 4],\n",
       "       [3, 4, 5]])"
      ]
     },
     "execution_count": 121,
     "metadata": {},
     "output_type": "execute_result"
    }
   ],
   "source": [
    "np.array([range (i,i+3)for i in [1,2,3]])"
   ]
  },
  {
   "cell_type": "code",
   "execution_count": 122,
   "id": "68ef2245-4ed5-42f3-84d5-afdcc0e24072",
   "metadata": {},
   "outputs": [
    {
     "name": "stdout",
     "output_type": "stream",
     "text": [
      "[ 1  2  3  4  5  6  7  8  9 10 11 12 13 14 15]\n",
      "[ 2  3  4  5  6  7  8  9 10 11 12 13 14 15 16]\n",
      "[ 3  4  5  6  7  8  9 10 11 12 13 14 15 16 17]\n",
      "[ 4  5  6  7  8  9 10 11 12 13 14 15 16 17 18]\n",
      "[ 5  6  7  8  9 10 11 12 13 14 15 16 17 18 19]\n",
      "[ 6  7  8  9 10 11 12 13 14 15 16 17 18 19 20]\n",
      "[ 7  8  9 10 11 12 13 14 15 16 17 18 19 20 21]\n",
      "[ 8  9 10 11 12 13 14 15 16 17 18 19 20 21 22]\n",
      "[ 9 10 11 12 13 14 15 16 17 18 19 20 21 22 23]\n",
      "[10 11 12 13 14 15 16 17 18 19 20 21 22 23 24]\n",
      "[11 12 13 14 15 16 17 18 19 20 21 22 23 24 25]\n",
      "[12 13 14 15 16 17 18 19 20 21 22 23 24 25 26]\n",
      "[13 14 15 16 17 18 19 20 21 22 23 24 25 26 27]\n",
      "[14 15 16 17 18 19 20 21 22 23 24 25 26 27 28]\n",
      "[15 16 17 18 19 20 21 22 23 24 25 26 27 28 29]\n"
     ]
    }
   ],
   "source": [
    "r = [1,2,3,4,5,6,7,8,9,10,11,12,13,14,15]\n",
    "for i in r:\n",
    "    x = np.array(range(i, i + len(r)))\n",
    "    print(x)"
   ]
  },
  {
   "cell_type": "code",
   "execution_count": 123,
   "id": "e264a013-cad6-42ca-80e7-c0aaf9233eae",
   "metadata": {},
   "outputs": [],
   "source": [
    "c = np.ones((3,7))"
   ]
  },
  {
   "cell_type": "code",
   "execution_count": 57,
   "id": "c7edb742-5200-4553-a23e-e71df6a31f62",
   "metadata": {},
   "outputs": [
    {
     "data": {
      "text/plain": [
       "array([[1., 1., 1., 1., 1., 1., 1.],\n",
       "       [1., 1., 1., 1., 1., 1., 1.],\n",
       "       [1., 1., 1., 1., 1., 1., 1.]])"
      ]
     },
     "execution_count": 57,
     "metadata": {},
     "output_type": "execute_result"
    }
   ],
   "source": [
    "c"
   ]
  },
  {
   "cell_type": "code",
   "execution_count": 63,
   "id": "f3542df5-371c-4994-b1fe-0a8c79678702",
   "metadata": {},
   "outputs": [
    {
     "name": "stdout",
     "output_type": "stream",
     "text": [
      "[1. 1. 1. 1.]\n"
     ]
    }
   ],
   "source": [
    "for i in c[:1,:4]:\n",
    "    print(i)"
   ]
  },
  {
   "cell_type": "code",
   "execution_count": 65,
   "id": "e62d8720-e58f-417b-82e5-297d013744c4",
   "metadata": {},
   "outputs": [
    {
     "data": {
      "text/plain": [
       "array([[3.14159265, 3.14159265, 3.14159265, 3.14159265, 3.14159265],\n",
       "       [3.14159265, 3.14159265, 3.14159265, 3.14159265, 3.14159265],\n",
       "       [3.14159265, 3.14159265, 3.14159265, 3.14159265, 3.14159265]])"
      ]
     },
     "execution_count": 65,
     "metadata": {},
     "output_type": "execute_result"
    }
   ],
   "source": [
    "np.full((3,5),np.pi)"
   ]
  },
  {
   "cell_type": "code",
   "execution_count": 72,
   "id": "9cd35a08-6187-4eba-b9ec-d0dcb296b42e",
   "metadata": {},
   "outputs": [
    {
     "data": {
      "text/plain": [
       "array([[0.65442305, 0.43139939, 0.27019683, 0.73633497],\n",
       "       [0.52199104, 0.53752765, 0.50591709, 0.49901026],\n",
       "       [0.37348649, 0.78130464, 0.22205192, 0.60011103]])"
      ]
     },
     "execution_count": 72,
     "metadata": {},
     "output_type": "execute_result"
    }
   ],
   "source": [
    "np.random.random((3,4))"
   ]
  },
  {
   "cell_type": "code",
   "execution_count": 106,
   "id": "3d5a0501-0af9-48e1-b636-ca6e93be1928",
   "metadata": {},
   "outputs": [
    {
     "data": {
      "text/plain": [
       "array([1.00574789])"
      ]
     },
     "execution_count": 106,
     "metadata": {},
     "output_type": "execute_result"
    }
   ],
   "source": [
    "np.random.normal(12,45,(1))"
   ]
  },
  {
   "cell_type": "code",
   "execution_count": 109,
   "id": "47a3847d-f826-495d-ad00-9f7bc5af038f",
   "metadata": {},
   "outputs": [
    {
     "data": {
      "text/plain": [
       "array([1., 1., 1., 1.])"
      ]
     },
     "execution_count": 109,
     "metadata": {},
     "output_type": "execute_result"
    }
   ],
   "source": [
    "np.empty(4)"
   ]
  },
  {
   "cell_type": "code",
   "execution_count": null,
   "id": "18f18af4-0fe8-4579-95f2-ced6b356b0f2",
   "metadata": {},
   "outputs": [],
   "source": []
  }
 ],
 "metadata": {
  "kernelspec": {
   "display_name": "Python 3",
   "language": "python",
   "name": "python3"
  },
  "language_info": {
   "codemirror_mode": {
    "name": "ipython",
    "version": 3
   },
   "file_extension": ".py",
   "mimetype": "text/x-python",
   "name": "python",
   "nbconvert_exporter": "python",
   "pygments_lexer": "ipython3",
   "version": "3.7.16"
  }
 },
 "nbformat": 4,
 "nbformat_minor": 5
}
